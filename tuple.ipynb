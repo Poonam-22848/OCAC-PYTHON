{
 "cells": [
  {
   "cell_type": "code",
   "execution_count": 1,
   "id": "6d441795-e98b-4693-9883-94b6a831c22e",
   "metadata": {},
   "outputs": [
    {
     "data": {
      "text/plain": [
       "tuple"
      ]
     },
     "execution_count": 1,
     "metadata": {},
     "output_type": "execute_result"
    }
   ],
   "source": [
    "tup1 = ()\n",
    "type(tup1)"
   ]
  },
  {
   "cell_type": "code",
   "execution_count": 2,
   "id": "dd86af78-e3b6-4eed-8341-7000db7a11c1",
   "metadata": {},
   "outputs": [
    {
     "data": {
      "text/plain": [
       "tuple"
      ]
     },
     "execution_count": 2,
     "metadata": {},
     "output_type": "execute_result"
    }
   ],
   "source": [
    "tup2=tuple()\n",
    "type(tup2)"
   ]
  },
  {
   "cell_type": "code",
   "execution_count": 3,
   "id": "2b14b901-5556-43f4-927c-badc5f5854d3",
   "metadata": {},
   "outputs": [
    {
     "data": {
      "text/plain": [
       "(100, 'poonam', 19.345)"
      ]
     },
     "execution_count": 3,
     "metadata": {},
     "output_type": "execute_result"
    }
   ],
   "source": [
    "tup3= (100, 'poonam', 19.345)\n",
    "tup3"
   ]
  },
  {
   "cell_type": "code",
   "execution_count": 5,
   "id": "ccb1aa39-3628-4045-8bee-9af1857923e7",
   "metadata": {},
   "outputs": [],
   "source": [
    "tup4 = ('poonam', 25, (50,100),(150,90))"
   ]
  },
  {
   "cell_type": "code",
   "execution_count": 6,
   "id": "ef9ffb8c-0a59-48f6-8de5-fee9856adcad",
   "metadata": {},
   "outputs": [],
   "source": [
    "tup5 =('poonam',25 ,[50,100],[150,90],{'priyanka','poonam'}, (99,44,77))"
   ]
  },
  {
   "cell_type": "code",
   "execution_count": 7,
   "id": "88390354-dc8c-4efe-a037-e5327f5b2772",
   "metadata": {},
   "outputs": [],
   "source": [
    "tup5[3][0]=270"
   ]
  },
  {
   "cell_type": "code",
   "execution_count": 8,
   "id": "fc3378a1-714b-4ae4-a96b-e2cc10383757",
   "metadata": {},
   "outputs": [
    {
     "data": {
      "text/plain": [
       "6"
      ]
     },
     "execution_count": 8,
     "metadata": {},
     "output_type": "execute_result"
    }
   ],
   "source": [
    "len(tup5)"
   ]
  },
  {
   "cell_type": "code",
   "execution_count": 8,
   "id": "800b0c94-3fdb-426a-b563-3e49be771f8b",
   "metadata": {},
   "outputs": [],
   "source": [
    "mytuple1 =('one', 'two','three','four', 'one' ,'one','two','three')"
   ]
  },
  {
   "cell_type": "code",
   "execution_count": 9,
   "id": "e1f74782-b9a5-4425-a852-696442c94605",
   "metadata": {},
   "outputs": [
    {
     "data": {
      "text/plain": [
       "3"
      ]
     },
     "execution_count": 9,
     "metadata": {},
     "output_type": "execute_result"
    }
   ],
   "source": [
    "mytuple1.count('one')"
   ]
  },
  {
   "cell_type": "code",
   "execution_count": 10,
   "id": "918e883f-e5fa-470a-bb16-bf259ba2c256",
   "metadata": {},
   "outputs": [
    {
     "data": {
      "text/plain": [
       "2"
      ]
     },
     "execution_count": 10,
     "metadata": {},
     "output_type": "execute_result"
    }
   ],
   "source": [
    "mytuple1.count('two')"
   ]
  },
  {
   "cell_type": "code",
   "execution_count": 11,
   "id": "0a1dc3f3-fd72-4ccd-a04d-00c681d4aac3",
   "metadata": {},
   "outputs": [
    {
     "data": {
      "text/plain": [
       "0"
      ]
     },
     "execution_count": 11,
     "metadata": {},
     "output_type": "execute_result"
    }
   ],
   "source": [
    "mytuple.index('one')"
   ]
  },
  {
   "cell_type": "code",
   "execution_count": 13,
   "id": "5a702513-9925-495c-94e1-bf8738f56bcd",
   "metadata": {},
   "outputs": [
    {
     "data": {
      "text/plain": [
       "4"
      ]
     },
     "execution_count": 13,
     "metadata": {},
     "output_type": "execute_result"
    }
   ],
   "source": [
    "mytuple.index('five') #index of first element equal to five"
   ]
  },
  {
   "cell_type": "code",
   "execution_count": 14,
   "id": "f92c98e2-b0a3-486e-ac8b-0ac1924e8cf2",
   "metadata": {},
   "outputs": [],
   "source": [
    "mytuple2= (43,67,99,12,6,90,67)"
   ]
  },
  {
   "cell_type": "code",
   "execution_count": 15,
   "id": "8033f50b-e626-4a66-823f-2cc0f1fd223b",
   "metadata": {},
   "outputs": [
    {
     "data": {
      "text/plain": [
       "[6, 12, 43, 67, 67, 90, 99]"
      ]
     },
     "execution_count": 15,
     "metadata": {},
     "output_type": "execute_result"
    }
   ],
   "source": [
    "sorted(mytuple2)"
   ]
  },
  {
   "cell_type": "code",
   "execution_count": 16,
   "id": "1709ecfc-5d09-4d53-a4eb-3982c7f03d8c",
   "metadata": {},
   "outputs": [
    {
     "data": {
      "text/plain": [
       "[99, 90, 67, 67, 43, 12, 6]"
      ]
     },
     "execution_count": 16,
     "metadata": {},
     "output_type": "execute_result"
    }
   ],
   "source": [
    "sorted(mytuple2, reverse=True)"
   ]
  },
  {
   "cell_type": "code",
   "execution_count": 17,
   "id": "5117d2ca-37fd-45ef-ae20-407e4198d16d",
   "metadata": {},
   "outputs": [
    {
     "data": {
      "text/plain": [
       "(43, 67, 99, 12, 6, 90, 67)"
      ]
     },
     "execution_count": 17,
     "metadata": {},
     "output_type": "execute_result"
    }
   ],
   "source": [
    "mytuple2"
   ]
  },
  {
   "cell_type": "code",
   "execution_count": 18,
   "id": "f6ed340f-c59c-4d76-8f04-7f6846e45a2f",
   "metadata": {},
   "outputs": [],
   "source": [
    "mytuple =('one','two','three', 'four','five','six','seven', 'eight' )"
   ]
  },
  {
   "cell_type": "code",
   "execution_count": 20,
   "id": "2d586772-e600-4e62-b9d5-a102c5e96bce",
   "metadata": {},
   "outputs": [
    {
     "data": {
      "text/plain": [
       "True"
      ]
     },
     "execution_count": 20,
     "metadata": {},
     "output_type": "execute_result"
    }
   ],
   "source": [
    "'one' in mytuple"
   ]
  },
  {
   "cell_type": "code",
   "execution_count": 21,
   "id": "2ef01741-b870-44ec-a715-e17231d25b83",
   "metadata": {},
   "outputs": [
    {
     "data": {
      "text/plain": [
       "False"
      ]
     },
     "execution_count": 21,
     "metadata": {},
     "output_type": "execute_result"
    }
   ],
   "source": [
    "'ten' in mytuple"
   ]
  },
  {
   "cell_type": "code",
   "execution_count": null,
   "id": "f7af1b64-a1cc-47a0-a517-28435fd6e213",
   "metadata": {},
   "outputs": [],
   "source": []
  }
 ],
 "metadata": {
  "kernelspec": {
   "display_name": "Python 3 (ipykernel)",
   "language": "python",
   "name": "python3"
  },
  "language_info": {
   "codemirror_mode": {
    "name": "ipython",
    "version": 3
   },
   "file_extension": ".py",
   "mimetype": "text/x-python",
   "name": "python",
   "nbconvert_exporter": "python",
   "pygments_lexer": "ipython3",
   "version": "3.11.7"
  }
 },
 "nbformat": 4,
 "nbformat_minor": 5
}
