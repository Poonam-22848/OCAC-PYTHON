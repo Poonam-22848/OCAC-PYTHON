{
 "cells": [
  {
   "cell_type": "code",
   "execution_count": 1,
   "id": "65783c24-72e4-4122-ae45-6364cc0a27ff",
   "metadata": {},
   "outputs": [
    {
     "data": {
      "text/plain": [
       "8"
      ]
     },
     "execution_count": 1,
     "metadata": {},
     "output_type": "execute_result"
    }
   ],
   "source": [
    "# Addition\n",
    "3+5\n"
   ]
  },
  {
   "cell_type": "code",
   "execution_count": 2,
   "id": "f3d87986-2160-485c-ae7f-575c9d058c2f",
   "metadata": {},
   "outputs": [
    {
     "data": {
      "text/plain": [
       "13"
      ]
     },
     "execution_count": 2,
     "metadata": {},
     "output_type": "execute_result"
    }
   ],
   "source": [
    "# substraction\n",
    "67-54"
   ]
  },
  {
   "cell_type": "code",
   "execution_count": 3,
   "id": "bfa4bb5a-8e2c-4946-9e8e-dd77e80fed98",
   "metadata": {},
   "outputs": [
    {
     "data": {
      "text/plain": [
       "35"
      ]
     },
     "execution_count": 3,
     "metadata": {},
     "output_type": "execute_result"
    }
   ],
   "source": [
    "# Multiplication\n",
    "5*7"
   ]
  },
  {
   "cell_type": "code",
   "execution_count": 4,
   "id": "89c676e8-3b7b-4565-bca8-4380f3998843",
   "metadata": {},
   "outputs": [
    {
     "data": {
      "text/plain": [
       "1.75"
      ]
     },
     "execution_count": 4,
     "metadata": {},
     "output_type": "execute_result"
    }
   ],
   "source": [
    "# Division\n",
    "7/4"
   ]
  },
  {
   "cell_type": "code",
   "execution_count": 5,
   "id": "e9cbd3d2-df8e-4379-af32-bee0aa543e13",
   "metadata": {},
   "outputs": [
    {
     "data": {
      "text/plain": [
       "10000"
      ]
     },
     "execution_count": 5,
     "metadata": {},
     "output_type": "execute_result"
    }
   ],
   "source": [
    "# power/exponent\n",
    "10**4"
   ]
  },
  {
   "cell_type": "code",
   "execution_count": 6,
   "id": "12a7c774-53cb-443a-be64-ce9d39bae15d",
   "metadata": {},
   "outputs": [
    {
     "data": {
      "text/plain": [
       "3.3333333333333335"
      ]
     },
     "execution_count": 6,
     "metadata": {},
     "output_type": "execute_result"
    }
   ],
   "source": [
    "10/3"
   ]
  },
  {
   "cell_type": "code",
   "execution_count": 7,
   "id": "ac0c8066-8ade-4385-81b9-cd8e992e1290",
   "metadata": {},
   "outputs": [
    {
     "data": {
      "text/plain": [
       "3"
      ]
     },
     "execution_count": 7,
     "metadata": {},
     "output_type": "execute_result"
    }
   ],
   "source": [
    "# floor division\n",
    "10//3"
   ]
  },
  {
   "cell_type": "code",
   "execution_count": 9,
   "id": "07ae62c7-e897-4bc3-84bd-7ac460ae32bf",
   "metadata": {},
   "outputs": [
    {
     "data": {
      "text/plain": [
       "1"
      ]
     },
     "execution_count": 9,
     "metadata": {},
     "output_type": "execute_result"
    }
   ],
   "source": [
    "# Modulo --> remainder\n",
    "10%3"
   ]
  },
  {
   "cell_type": "markdown",
   "id": "d8af2cf7-074f-4ab1-bcb2-56aff40a3494",
   "metadata": {
    "jp-MarkdownHeadingCollapsed": true
   },
   "source": [
    " "
   ]
  },
  {
   "cell_type": "code",
   "execution_count": 1,
   "id": "e1c88119-03cf-4eaf-8f65-a1cecfc5667e",
   "metadata": {},
   "outputs": [
    {
     "name": "stdout",
     "output_type": "stream",
     "text": [
      "200\n",
      "0.5\n",
      "10\n"
     ]
    }
   ],
   "source": [
    "a=10\n",
    "b=20\n",
    "print(a*b)\n",
    "print(a/b)\n",
    "print(a%b)"
   ]
  },
  {
   "cell_type": "code",
   "execution_count": 2,
   "id": "0855d3b0-8ce1-44a9-a934-eaee8238cfcc",
   "metadata": {},
   "outputs": [
    {
     "data": {
      "text/plain": [
       "True"
      ]
     },
     "execution_count": 2,
     "metadata": {},
     "output_type": "execute_result"
    }
   ],
   "source": [
    "# greater than\n",
    "45>34"
   ]
  },
  {
   "cell_type": "code",
   "execution_count": 4,
   "id": "8a883de4-1f2d-4639-88cf-50e8f8834a6a",
   "metadata": {},
   "outputs": [
    {
     "data": {
      "text/plain": [
       "False"
      ]
     },
     "execution_count": 4,
     "metadata": {},
     "output_type": "execute_result"
    }
   ],
   "source": [
    "# less than\n",
    "56<12"
   ]
  },
  {
   "cell_type": "code",
   "execution_count": 5,
   "id": "a05d18a7-c21f-46f1-8e3d-9f794bf52a8e",
   "metadata": {},
   "outputs": [
    {
     "data": {
      "text/plain": [
       "False"
      ]
     },
     "execution_count": 5,
     "metadata": {},
     "output_type": "execute_result"
    }
   ],
   "source": [
    "3*3 < 4*2\n"
   ]
  },
  {
   "cell_type": "code",
   "execution_count": 6,
   "id": "ff3c34ce-6164-4ccb-b04f-c7b5a5748864",
   "metadata": {},
   "outputs": [
    {
     "data": {
      "text/plain": [
       "False"
      ]
     },
     "execution_count": 6,
     "metadata": {},
     "output_type": "execute_result"
    }
   ],
   "source": [
    "# equal\n",
    "56 == 45"
   ]
  },
  {
   "cell_type": "code",
   "execution_count": 7,
   "id": "d40ccbab-93f8-49ba-987b-67519d7dcea5",
   "metadata": {},
   "outputs": [
    {
     "data": {
      "text/plain": [
       "True"
      ]
     },
     "execution_count": 7,
     "metadata": {},
     "output_type": "execute_result"
    }
   ],
   "source": [
    "# not equal\n",
    "3!=5"
   ]
  },
  {
   "cell_type": "code",
   "execution_count": 1,
   "id": "5f3513c5-9bcf-457e-a99f-8482bd87d5c6",
   "metadata": {},
   "outputs": [
    {
     "data": {
      "text/plain": [
       "'0b1100100'"
      ]
     },
     "execution_count": 1,
     "metadata": {},
     "output_type": "execute_result"
    }
   ],
   "source": [
    "bin(100)"
   ]
  },
  {
   "cell_type": "code",
   "execution_count": 2,
   "id": "cc0bc9e9-5b76-4210-af9b-30111ecf5e9e",
   "metadata": {},
   "outputs": [
    {
     "data": {
      "text/plain": [
       "100"
      ]
     },
     "execution_count": 2,
     "metadata": {},
     "output_type": "execute_result"
    }
   ],
   "source": [
    "0b1100100"
   ]
  },
  {
   "cell_type": "code",
   "execution_count": 3,
   "id": "4a432a6c-7f69-4eb3-b2f6-90df29f7cb8c",
   "metadata": {},
   "outputs": [
    {
     "name": "stdout",
     "output_type": "stream",
     "text": [
      "0.6\n"
     ]
    }
   ],
   "source": [
    "a=3         # 0 1 1\n",
    "b=5          # 1 0 1\n",
    "\n",
    "print(a|b)    # 1 1 1 result"
   ]
  },
  {
   "cell_type": "code",
   "execution_count": 4,
   "id": "73cbd037-7d3c-4adf-9047-852ff95d55e1",
   "metadata": {},
   "outputs": [
    {
     "data": {
      "text/plain": [
       "15"
      ]
     },
     "execution_count": 4,
     "metadata": {},
     "output_type": "execute_result"
    }
   ],
   "source": [
    "6 | 9"
   ]
  },
  {
   "cell_type": "code",
   "execution_count": 5,
   "id": "470cfadb-4430-4598-95f2-b8237453d677",
   "metadata": {},
   "outputs": [
    {
     "data": {
      "text/plain": [
       "True"
      ]
     },
     "execution_count": 5,
     "metadata": {},
     "output_type": "execute_result"
    }
   ],
   "source": [
    "(1 > 2) or (2 < 3)"
   ]
  },
  {
   "cell_type": "code",
   "execution_count": 6,
   "id": "71c8ad9a-478e-462a-aa46-8d9f51cc41d5",
   "metadata": {},
   "outputs": [
    {
     "data": {
      "text/plain": [
       "False"
      ]
     },
     "execution_count": 6,
     "metadata": {},
     "output_type": "execute_result"
    }
   ],
   "source": [
    "(1 > 3) and (2 < 3)"
   ]
  },
  {
   "cell_type": "code",
   "execution_count": 7,
   "id": "076d38fc-47b5-4c5a-801d-609fa27988e5",
   "metadata": {},
   "outputs": [
    {
     "data": {
      "text/plain": [
       "False"
      ]
     },
     "execution_count": 7,
     "metadata": {},
     "output_type": "execute_result"
    }
   ],
   "source": [
    "(1 > 2) and (2 < 3)"
   ]
  },
  {
   "cell_type": "code",
   "execution_count": 9,
   "id": "6f6e4e76-753c-43b8-9304-beaed4112fde",
   "metadata": {},
   "outputs": [],
   "source": [
    "a = 10"
   ]
  },
  {
   "cell_type": "code",
   "execution_count": 10,
   "id": "2abcf873-8d27-42eb-a220-b4afee8bc226",
   "metadata": {},
   "outputs": [
    {
     "name": "stdout",
     "output_type": "stream",
     "text": [
      "11\n"
     ]
    }
   ],
   "source": [
    "a = a+1\n",
    "print(a)"
   ]
  },
  {
   "cell_type": "code",
   "execution_count": 11,
   "id": "c8bf05ed-02f4-4e55-8916-3bda171622e7",
   "metadata": {},
   "outputs": [
    {
     "data": {
      "text/plain": [
       "12"
      ]
     },
     "execution_count": 11,
     "metadata": {},
     "output_type": "execute_result"
    }
   ],
   "source": [
    "a+=1\n",
    "a"
   ]
  },
  {
   "cell_type": "code",
   "execution_count": 12,
   "id": "9ef418fa-cbb3-486f-8d31-761787b592f1",
   "metadata": {},
   "outputs": [
    {
     "data": {
      "text/plain": [
       "8"
      ]
     },
     "execution_count": 12,
     "metadata": {},
     "output_type": "execute_result"
    }
   ],
   "source": [
    "a-=4\n",
    "a"
   ]
  },
  {
   "cell_type": "code",
   "execution_count": 13,
   "id": "4dbe5bf6-054b-46e5-b5aa-3c08a348f44a",
   "metadata": {},
   "outputs": [
    {
     "name": "stdout",
     "output_type": "stream",
     "text": [
      "True\n"
     ]
    }
   ],
   "source": [
    "a = 5\n",
    "b = 5\n",
    "print(a is b)"
   ]
  },
  {
   "cell_type": "code",
   "execution_count": 14,
   "id": "c574d555-1b10-45d7-96fd-51e1131343ae",
   "metadata": {},
   "outputs": [
    {
     "name": "stdout",
     "output_type": "stream",
     "text": [
      "True\n"
     ]
    }
   ],
   "source": [
    "s1 = \"poonam\"\n",
    "s2 = \"poonam\"\n",
    "print(s1 is s2)"
   ]
  },
  {
   "cell_type": "code",
   "execution_count": 15,
   "id": "ddf14a35-5dd9-452d-b37b-6f9c55d704d7",
   "metadata": {},
   "outputs": [
    {
     "data": {
      "text/plain": [
       "True"
      ]
     },
     "execution_count": 15,
     "metadata": {},
     "output_type": "execute_result"
    }
   ],
   "source": [
    "a=6\n",
    "b=8\n",
    "a is not b"
   ]
  },
  {
   "cell_type": "code",
   "execution_count": 16,
   "id": "695bb7ac-7c55-42b5-af30-ee2b04cf4cfe",
   "metadata": {},
   "outputs": [
    {
     "data": {
      "text/plain": [
       "'nam in a'"
      ]
     },
     "execution_count": 16,
     "metadata": {},
     "output_type": "execute_result"
    }
   ],
   "source": [
    "a= 'poonam'\n",
    "'nam in a'"
   ]
  },
  {
   "cell_type": "code",
   "execution_count": null,
   "id": "87a58299-18ca-4abc-b02b-07a2c579c9ff",
   "metadata": {},
   "outputs": [],
   "source": [
    "1st = [1, 2, 3, 4]\n",
    "1"
   ]
  }
 ],
 "metadata": {
  "kernelspec": {
   "display_name": "Python 3 (ipykernel)",
   "language": "python",
   "name": "python3"
  },
  "language_info": {
   "codemirror_mode": {
    "name": "ipython",
    "version": 3
   },
   "file_extension": ".py",
   "mimetype": "text/x-python",
   "name": "python",
   "nbconvert_exporter": "python",
   "pygments_lexer": "ipython3",
   "version": "3.11.7"
  }
 },
 "nbformat": 4,
 "nbformat_minor": 5
}
