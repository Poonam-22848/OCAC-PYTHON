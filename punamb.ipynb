{
 "cells": [
  {
   "cell_type": "code",
   "execution_count": 1,
   "id": "941ddd3a-4f6d-4236-a401-cf015c340c71",
   "metadata": {},
   "outputs": [
    {
     "name": "stdout",
     "output_type": "stream",
     "text": [
      "2\n"
     ]
    }
   ],
   "source": [
    "print(2)"
   ]
  },
  {
   "cell_type": "code",
   "execution_count": 2,
   "id": "c0edfd56-0219-4aae-bc7e-43fd6e68a6ef",
   "metadata": {},
   "outputs": [
    {
     "name": "stdout",
     "output_type": "stream",
     "text": [
      "poonam\n"
     ]
    }
   ],
   "source": [
    "print(\"poonam\")"
   ]
  },
  {
   "cell_type": "code",
   "execution_count": 3,
   "id": "04c7d58b-1d7f-423b-920a-9209fe44f657",
   "metadata": {},
   "outputs": [
    {
     "name": "stdout",
     "output_type": "stream",
     "text": [
      "poonam     14!@#$\n"
     ]
    }
   ],
   "source": [
    "print(\"poonam     14!@#$\")"
   ]
  },
  {
   "cell_type": "code",
   "execution_count": 4,
   "id": "f798aea6-a4cc-4ddd-b5e8-ee3e68d49cd5",
   "metadata": {},
   "outputs": [
    {
     "name": "stdout",
     "output_type": "stream",
     "text": [
      "20\n"
     ]
    }
   ],
   "source": [
    "b=20\n",
    "print(b)"
   ]
  },
  {
   "cell_type": "code",
   "execution_count": 6,
   "id": "eaf05009-bf27-4948-931f-9853899c8afe",
   "metadata": {},
   "outputs": [
    {
     "name": "stdout",
     "output_type": "stream",
     "text": [
      "10\n"
     ]
    }
   ],
   "source": [
    "priyanka=10\n",
    "print(priyanka)"
   ]
  },
  {
   "cell_type": "code",
   "execution_count": 7,
   "id": "5130813c-a62f-4686-a643-6d2b175571aa",
   "metadata": {},
   "outputs": [
    {
     "name": "stdout",
     "output_type": "stream",
     "text": [
      "10 20 30 40\n"
     ]
    }
   ],
   "source": [
    "a=10\n",
    "b=20\n",
    "c=30\n",
    "d=40\n",
    "print(a,b,c,d)"
   ]
  },
  {
   "cell_type": "code",
   "execution_count": 8,
   "id": "b9089f5d-7c7c-48cd-8d41-e04f436e53cd",
   "metadata": {},
   "outputs": [
    {
     "name": "stdout",
     "output_type": "stream",
     "text": [
      "2\n",
      "20\n"
     ]
    }
   ],
   "source": [
    "a=2\n",
    "print(a)\n",
    "print(b)"
   ]
  },
  {
   "cell_type": "code",
   "execution_count": 10,
   "id": "6b1c9ac0-c258-4aa5-a9b2-3092e9da4e74",
   "metadata": {},
   "outputs": [
    {
     "name": "stdout",
     "output_type": "stream",
     "text": [
      "20\n"
     ]
    },
    {
     "data": {
      "text/plain": [
       "int"
      ]
     },
     "execution_count": 10,
     "metadata": {},
     "output_type": "execute_result"
    }
   ],
   "source": [
    "a='6'\n",
    "print(b)\n",
    "type(b)"
   ]
  },
  {
   "cell_type": "code",
   "execution_count": 11,
   "id": "5af4c2d5-63ba-4174-9efe-a007ed57c328",
   "metadata": {},
   "outputs": [
    {
     "name": "stdout",
     "output_type": "stream",
     "text": [
      "30\n"
     ]
    }
   ],
   "source": [
    "# print function in python 3\n",
    "a=10\n",
    "b=20\n",
    "c=a+b\n",
    "print(c)"
   ]
  },
  {
   "cell_type": "code",
   "execution_count": 12,
   "id": "de2eca7e-57ee-40cd-94c6-7449c15acbb3",
   "metadata": {},
   "outputs": [
    {
     "name": "stdout",
     "output_type": "stream",
     "text": [
      "30\n"
     ]
    }
   ],
   "source": [
    "print(10+20)"
   ]
  },
  {
   "cell_type": "code",
   "execution_count": 13,
   "id": "d82ac922-dbfb-4963-abd3-e1ac6582f18f",
   "metadata": {},
   "outputs": [
    {
     "name": "stdout",
     "output_type": "stream",
     "text": [
      "10:20:30:40\n"
     ]
    }
   ],
   "source": [
    "a=10\n",
    "b=20\n",
    "c=30\n",
    "d=40\n",
    "\n",
    "print(a,b,c,d,sep= \":\")"
   ]
  },
  {
   "cell_type": "code",
   "execution_count": 15,
   "id": "58486dd7-f466-4958-b717-66b1e4cfbec4",
   "metadata": {},
   "outputs": [
    {
     "name": "stdout",
     "output_type": "stream",
     "text": [
      "Name priyanka poonam\n"
     ]
    }
   ],
   "source": [
    "first_name='poonam'\n",
    "last_name='priyanka'\n",
    "\n",
    "print(\"Name\",last_name,first_name)"
   ]
  },
  {
   "cell_type": "code",
   "execution_count": 16,
   "id": "a8ad8fdc-023c-4b56-a91e-13f66ae2ba18",
   "metadata": {},
   "outputs": [
    {
     "name": "stdout",
     "output_type": "stream",
     "text": [
      "My first name is: poonam and last name is: priyanka\n"
     ]
    }
   ],
   "source": [
    "print(\"My first name is:\",first_name,\"and last name is:\",last_name)"
   ]
  },
  {
   "cell_type": "code",
   "execution_count": 18,
   "id": "4245bc1c-04ba-4902-90e8-a2a9a384c1bc",
   "metadata": {},
   "outputs": [
    {
     "name": "stdout",
     "output_type": "stream",
     "text": [
      "My first name is: poonam and last name is: priyanka\n"
     ]
    }
   ],
   "source": [
    "print(\"My first name is: {} and last name is: {}\".format(first_name,last_name))"
   ]
  },
  {
   "cell_type": "code",
   "execution_count": 22,
   "id": "23c8635b-701d-4f6a-b618-9b2055a3298a",
   "metadata": {},
   "outputs": [
    {
     "name": "stdout",
     "output_type": "stream",
     "text": [
      "My first name is: priyanka and last name is: priyanka\n"
     ]
    }
   ],
   "source": [
    "print(\"My first name is: {first} and last name is: {first}\".format(last=last_name,first=last_name))"
   ]
  },
  {
   "cell_type": "code",
   "execution_count": 23,
   "id": "a31f3e4f-1ef3-431b-b8f3-122066bb6eac",
   "metadata": {},
   "outputs": [
    {
     "name": "stdout",
     "output_type": "stream",
     "text": [
      "Hello poonam Good Morning poonam\n"
     ]
    }
   ],
   "source": [
    "print(\"Hello {name} {greeting} {name}\".format(name=\"poonam\", greeting=\"Good Morning\"))"
   ]
  },
  {
   "cell_type": "code",
   "execution_count": 24,
   "id": "662157e0-730e-4498-b11c-74a840790e76",
   "metadata": {},
   "outputs": [
    {
     "name": "stdout",
     "output_type": "stream",
     "text": [
      "The story of Bill, Manfred, and Georg\n"
     ]
    }
   ],
   "source": [
    "print('The story of {}, {}, and {other}'.format('Bill', 'Manfred',other='Georg'))"
   ]
  },
  {
   "cell_type": "code",
   "execution_count": 27,
   "id": "0c9cf8fa-0b23-4eaa-b9ef-989c090c6a01",
   "metadata": {},
   "outputs": [
    {
     "name": "stdout",
     "output_type": "stream",
     "text": [
      "My number is: 12and my name is: priya\n",
      "My number is: 12 and my name is: priya\n",
      "My number is:, 12 and my name is: priya\n"
     ]
    }
   ],
   "source": [
    "num=12\n",
    "name='priya'\n",
    "print('My number is: {one}and my name is: {two}'.format(one=num,two=name))\n",
    "print('My number is: {} and my name is: {}'.format(num,name))\n",
    "print(\"My number is:,\",num,\"and my name is:\",name)"
   ]
  },
  {
   "cell_type": "code",
   "execution_count": null,
   "id": "6a993ae7-5765-4f73-b447-3bb7300c0c76",
   "metadata": {},
   "outputs": [],
   "source": []
  }
 ],
 "metadata": {
  "kernelspec": {
   "display_name": "Python 3 (ipykernel)",
   "language": "python",
   "name": "python3"
  },
  "language_info": {
   "codemirror_mode": {
    "name": "ipython",
    "version": 3
   },
   "file_extension": ".py",
   "mimetype": "text/x-python",
   "name": "python",
   "nbconvert_exporter": "python",
   "pygments_lexer": "ipython3",
   "version": "3.11.7"
  }
 },
 "nbformat": 4,
 "nbformat_minor": 5
}
