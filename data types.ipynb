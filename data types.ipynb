{
 "cells": [
  {
   "cell_type": "code",
   "execution_count": 2,
   "id": "149d219e-1c35-44fd-b22a-dbc40d650161",
   "metadata": {},
   "outputs": [],
   "source": [
    "a=20"
   ]
  },
  {
   "cell_type": "code",
   "execution_count": 3,
   "id": "a4d65f4a-6470-48f9-a536-7ecd215566e4",
   "metadata": {},
   "outputs": [
    {
     "data": {
      "text/plain": [
       "int"
      ]
     },
     "execution_count": 3,
     "metadata": {},
     "output_type": "execute_result"
    }
   ],
   "source": [
    "type (a)"
   ]
  },
  {
   "cell_type": "code",
   "execution_count": 4,
   "id": "38a67f98-0cfd-47ed-b016-dbd04f4e9c2f",
   "metadata": {},
   "outputs": [
    {
     "data": {
      "text/plain": [
       "float"
      ]
     },
     "execution_count": 4,
     "metadata": {},
     "output_type": "execute_result"
    }
   ],
   "source": [
    "a=15.0\n",
    "type (a)\n"
   ]
  },
  {
   "cell_type": "code",
   "execution_count": 5,
   "id": "ce81d429-87d2-4026-91f8-9037d06e79a7",
   "metadata": {},
   "outputs": [
    {
     "name": "stdout",
     "output_type": "stream",
     "text": [
      "<class 'int'>\n",
      "<class 'float'>\n"
     ]
    }
   ],
   "source": [
    "a=4\n",
    "print(type(a))\n",
    "\n",
    "b=4.0\n",
    "print(type(b))"
   ]
  },
  {
   "cell_type": "code",
   "execution_count": 6,
   "id": "9af0e83c-5318-43d6-a341-73d2cdf8f935",
   "metadata": {},
   "outputs": [
    {
     "data": {
      "text/plain": [
       "13.0"
      ]
     },
     "execution_count": 6,
     "metadata": {},
     "output_type": "execute_result"
    }
   ],
   "source": [
    "a=5\n",
    "b=8.0\n",
    "a+b"
   ]
  },
  {
   "cell_type": "code",
   "execution_count": 7,
   "id": "7640c5fb-bc12-4fc2-9d4d-d6e13cbb8a8f",
   "metadata": {},
   "outputs": [
    {
     "data": {
      "text/plain": [
       "5"
      ]
     },
     "execution_count": 7,
     "metadata": {},
     "output_type": "execute_result"
    }
   ],
   "source": [
    "b=5.9\n",
    "int(b)"
   ]
  },
  {
   "cell_type": "code",
   "execution_count": 8,
   "id": "572032dc-455f-48a0-b1dd-65b706d0e298",
   "metadata": {},
   "outputs": [
    {
     "data": {
      "text/plain": [
       "10"
      ]
     },
     "execution_count": 8,
     "metadata": {},
     "output_type": "execute_result"
    }
   ],
   "source": [
    "int(10.9999)"
   ]
  },
  {
   "cell_type": "code",
   "execution_count": 9,
   "id": "3207996b-9cd7-43e5-a355-43a0a3d8dd5b",
   "metadata": {},
   "outputs": [
    {
     "data": {
      "text/plain": [
       "bool"
      ]
     },
     "execution_count": 9,
     "metadata": {},
     "output_type": "execute_result"
    }
   ],
   "source": [
    "b1=True\n",
    "type(b1)"
   ]
  },
  {
   "cell_type": "code",
   "execution_count": 11,
   "id": "ba89e1c2-8e30-40c9-8427-fa30abd40e28",
   "metadata": {},
   "outputs": [
    {
     "data": {
      "text/plain": [
       "bool"
      ]
     },
     "execution_count": 11,
     "metadata": {},
     "output_type": "execute_result"
    }
   ],
   "source": [
    "type(True)"
   ]
  },
  {
   "cell_type": "code",
   "execution_count": 12,
   "id": "55abf655-c414-44b9-9980-8c686735401f",
   "metadata": {},
   "outputs": [
    {
     "data": {
      "text/plain": [
       "bool"
      ]
     },
     "execution_count": 12,
     "metadata": {},
     "output_type": "execute_result"
    }
   ],
   "source": [
    "type(False)\n"
   ]
  },
  {
   "cell_type": "code",
   "execution_count": 13,
   "id": "7af3d1eb-c342-4093-a125-a40a6c5d766c",
   "metadata": {},
   "outputs": [
    {
     "data": {
      "text/plain": [
       "1"
      ]
     },
     "execution_count": 13,
     "metadata": {},
     "output_type": "execute_result"
    }
   ],
   "source": [
    "int(True)"
   ]
  },
  {
   "cell_type": "code",
   "execution_count": 14,
   "id": "e89b543c-0063-47be-bc8d-95d108fece03",
   "metadata": {},
   "outputs": [
    {
     "data": {
      "text/plain": [
       "0"
      ]
     },
     "execution_count": 14,
     "metadata": {},
     "output_type": "execute_result"
    }
   ],
   "source": [
    "int(False)"
   ]
  },
  {
   "cell_type": "code",
   "execution_count": 15,
   "id": "0615c3c7-111b-42a6-98a3-26beded194ca",
   "metadata": {},
   "outputs": [
    {
     "data": {
      "text/plain": [
       "2"
      ]
     },
     "execution_count": 15,
     "metadata": {},
     "output_type": "execute_result"
    }
   ],
   "source": [
    "True+True"
   ]
  },
  {
   "cell_type": "code",
   "execution_count": 16,
   "id": "3d607911-fba7-44f1-8057-fdffcb1a4394",
   "metadata": {},
   "outputs": [
    {
     "data": {
      "text/plain": [
       "4.9"
      ]
     },
     "execution_count": 16,
     "metadata": {},
     "output_type": "execute_result"
    }
   ],
   "source": [
    "b=4.9\n",
    "c=False\n",
    "b+c\n"
   ]
  },
  {
   "cell_type": "code",
   "execution_count": 18,
   "id": "0f53aa86-26f4-47f3-a6af-d33d434feb93",
   "metadata": {},
   "outputs": [],
   "source": [
    "x=10+20j"
   ]
  },
  {
   "cell_type": "code",
   "execution_count": 20,
   "id": "3dcbb33d-27f0-4cb7-9416-8c17f5da95da",
   "metadata": {},
   "outputs": [
    {
     "data": {
      "text/plain": [
       "complex"
      ]
     },
     "execution_count": 20,
     "metadata": {},
     "output_type": "execute_result"
    }
   ],
   "source": [
    "type(x)\n"
   ]
  },
  {
   "cell_type": "code",
   "execution_count": 21,
   "id": "a9678efb-5c7e-4628-a993-01b4e7a2d22c",
   "metadata": {},
   "outputs": [
    {
     "data": {
      "text/plain": [
       "10.0"
      ]
     },
     "execution_count": 21,
     "metadata": {},
     "output_type": "execute_result"
    }
   ],
   "source": [
    "x.real"
   ]
  },
  {
   "cell_type": "code",
   "execution_count": 22,
   "id": "bd9f74e4-e813-40d2-bc80-e661ad24715a",
   "metadata": {},
   "outputs": [
    {
     "data": {
      "text/plain": [
       "20.0"
      ]
     },
     "execution_count": 22,
     "metadata": {},
     "output_type": "execute_result"
    }
   ],
   "source": [
    "x.imag"
   ]
  },
  {
   "cell_type": "code",
   "execution_count": 23,
   "id": "f99c1436-7aca-46a6-9609-20951f3f5f87",
   "metadata": {},
   "outputs": [
    {
     "data": {
      "text/plain": [
       "20"
      ]
     },
     "execution_count": 23,
     "metadata": {},
     "output_type": "execute_result"
    }
   ],
   "source": [
    "int(x.imag)"
   ]
  },
  {
   "cell_type": "code",
   "execution_count": 25,
   "id": "267f226d-fe62-4419-9c24-9976d90be15c",
   "metadata": {},
   "outputs": [
    {
     "name": "stdout",
     "output_type": "stream",
     "text": [
      "Hell0\n",
      "Hello\n",
      "Hello\n"
     ]
    }
   ],
   "source": [
    "mystring1='Hell0'\n",
    "print(mystring1)\n",
    "\n",
    "mystring2=\"Hello\"\n",
    "print(mystring2)\n",
    "\n",
    "mystring3=('''Hello''')\n",
    "print(mystring3)"
   ]
  },
  {
   "cell_type": "code",
   "execution_count": 26,
   "id": "dbe0f63f-654e-40f9-a3fa-9d5fe11122dc",
   "metadata": {},
   "outputs": [
    {
     "data": {
      "text/plain": [
       "str"
      ]
     },
     "execution_count": 26,
     "metadata": {},
     "output_type": "execute_result"
    }
   ],
   "source": [
    "a='poonam'\n",
    "type(a)\n"
   ]
  },
  {
   "cell_type": "code",
   "execution_count": 27,
   "id": "5e23c0cf-4d1c-443b-b59e-6d243d26bad5",
   "metadata": {},
   "outputs": [
    {
     "ename": "ValueError",
     "evalue": "invalid literal for int() with base 10: 'poonam'",
     "output_type": "error",
     "traceback": [
      "\u001b[1;31m---------------------------------------------------------------------------\u001b[0m",
      "\u001b[1;31mValueError\u001b[0m                                Traceback (most recent call last)",
      "Cell \u001b[1;32mIn[27], line 1\u001b[0m\n\u001b[1;32m----> 1\u001b[0m \u001b[38;5;28mint\u001b[39m(a)\n",
      "\u001b[1;31mValueError\u001b[0m: invalid literal for int() with base 10: 'poonam'"
     ]
    }
   ],
   "source": [
    "int(a)"
   ]
  },
  {
   "cell_type": "code",
   "execution_count": 28,
   "id": "a6406c0c-bcfd-4658-afd6-72478c1ed079",
   "metadata": {},
   "outputs": [
    {
     "data": {
      "text/plain": [
       "str"
      ]
     },
     "execution_count": 28,
     "metadata": {},
     "output_type": "execute_result"
    }
   ],
   "source": [
    "var=\"123454556\"\n",
    "type(var)"
   ]
  },
  {
   "cell_type": "code",
   "execution_count": 29,
   "id": "b8f008b3-b9ee-43cd-883f-9bf5cc1a0f60",
   "metadata": {},
   "outputs": [
    {
     "data": {
      "text/plain": [
       "str"
      ]
     },
     "execution_count": 29,
     "metadata": {},
     "output_type": "execute_result"
    }
   ],
   "source": [
    "z=int(var)\n",
    "type(var)"
   ]
  },
  {
   "cell_type": "code",
   "execution_count": 31,
   "id": "28128eb6-fa42-428e-a75b-0cfc63ef1943",
   "metadata": {},
   "outputs": [
    {
     "data": {
      "text/plain": [
       "'pi@1234'"
      ]
     },
     "execution_count": 31,
     "metadata": {},
     "output_type": "execute_result"
    }
   ],
   "source": [
    "a='pi@1234'\n",
    "a"
   ]
  },
  {
   "cell_type": "code",
   "execution_count": 33,
   "id": "7ed94ca9-8724-4c19-b243-6bd46d62303e",
   "metadata": {},
   "outputs": [
    {
     "name": "stdout",
     "output_type": "stream",
     "text": [
      "poonam\"laptop\"\n"
     ]
    }
   ],
   "source": [
    "print('poonam\"laptop\"')"
   ]
  },
  {
   "cell_type": "code",
   "execution_count": 34,
   "id": "59ad46e9-6404-48a1-8b53-7ae135eb380b",
   "metadata": {},
   "outputs": [
    {
     "ename": "SyntaxError",
     "evalue": "unterminated string literal (detected at line 1) (1013316699.py, line 1)",
     "output_type": "error",
     "traceback": [
      "\u001b[1;36m  Cell \u001b[1;32mIn[34], line 1\u001b[1;36m\u001b[0m\n\u001b[1;33m    print('poonam's \"laptop\"')\u001b[0m\n\u001b[1;37m                            ^\u001b[0m\n\u001b[1;31mSyntaxError\u001b[0m\u001b[1;31m:\u001b[0m unterminated string literal (detected at line 1)\n"
     ]
    }
   ],
   "source": [
    "print('poonam's \"laptop\"')"
   ]
  },
  {
   "cell_type": "code",
   "execution_count": 35,
   "id": "53ab3e85-8654-4c15-8ac5-ea3b542ec3bc",
   "metadata": {},
   "outputs": [],
   "source": [
    "a=\"50\"\n",
    "b=\"2\""
   ]
  },
  {
   "cell_type": "code",
   "execution_count": 36,
   "id": "b6ff26d9-e5d1-44dd-93a3-3c8924dbe3c0",
   "metadata": {},
   "outputs": [
    {
     "data": {
      "text/plain": [
       "50"
      ]
     },
     "execution_count": 36,
     "metadata": {},
     "output_type": "execute_result"
    }
   ],
   "source": [
    "int(a)"
   ]
  },
  {
   "cell_type": "code",
   "execution_count": 37,
   "id": "e23e6398-0bcc-47d4-a171-012c3442a93a",
   "metadata": {},
   "outputs": [
    {
     "data": {
      "text/plain": [
       "52"
      ]
     },
     "execution_count": 37,
     "metadata": {},
     "output_type": "execute_result"
    }
   ],
   "source": [
    "int(a)+int(b)"
   ]
  },
  {
   "cell_type": "code",
   "execution_count": 38,
   "id": "956242a0-e2eb-441c-8721-377d5f0ea138",
   "metadata": {},
   "outputs": [
    {
     "ename": "TypeError",
     "evalue": "unsupported operand type(s) for +: 'int' and 'str'",
     "output_type": "error",
     "traceback": [
      "\u001b[1;31m---------------------------------------------------------------------------\u001b[0m",
      "\u001b[1;31mTypeError\u001b[0m                                 Traceback (most recent call last)",
      "Cell \u001b[1;32mIn[38], line 3\u001b[0m\n\u001b[0;32m      1\u001b[0m d\u001b[38;5;241m=\u001b[39m\u001b[38;5;124m'\u001b[39m\u001b[38;5;124m3\u001b[39m\u001b[38;5;124m'\u001b[39m\n\u001b[0;32m      2\u001b[0m a\u001b[38;5;241m=\u001b[39m \u001b[38;5;241m6\u001b[39m\n\u001b[1;32m----> 3\u001b[0m a\u001b[38;5;241m+\u001b[39md\n",
      "\u001b[1;31mTypeError\u001b[0m: unsupported operand type(s) for +: 'int' and 'str'"
     ]
    }
   ],
   "source": [
    "d='3'\n",
    "a= 6\n",
    "a+d"
   ]
  },
  {
   "cell_type": "code",
   "execution_count": 39,
   "id": "44ea73b0-3f83-4ac3-90cd-133a04ef34ef",
   "metadata": {},
   "outputs": [
    {
     "data": {
      "text/plain": [
       "3"
      ]
     },
     "execution_count": 39,
     "metadata": {},
     "output_type": "execute_result"
    }
   ],
   "source": [
    "int(d)"
   ]
  },
  {
   "cell_type": "code",
   "execution_count": 40,
   "id": "6458fb22-626b-40e6-b161-87d1ae4de1c7",
   "metadata": {},
   "outputs": [
    {
     "data": {
      "text/plain": [
       "36"
      ]
     },
     "execution_count": 40,
     "metadata": {},
     "output_type": "execute_result"
    }
   ],
   "source": [
    "int(d+str(a))"
   ]
  },
  {
   "cell_type": "code",
   "execution_count": 43,
   "id": "a7e6ad48-181b-494e-80d0-973d67dd3342",
   "metadata": {},
   "outputs": [],
   "source": [
    "a=\"poonam\"\n",
    "b=123"
   ]
  },
  {
   "cell_type": "code",
   "execution_count": 44,
   "id": "92d364c6-1fce-4032-af6d-c5bb53ce4e7a",
   "metadata": {},
   "outputs": [
    {
     "data": {
      "text/plain": [
       "'navinnavin'"
      ]
     },
     "execution_count": 44,
     "metadata": {},
     "output_type": "execute_result"
    }
   ],
   "source": [
    "'navin' + 'navin'"
   ]
  },
  {
   "cell_type": "code",
   "execution_count": 46,
   "id": "4a6cbe61-7f15-4dc0-9755-44a2682d596a",
   "metadata": {},
   "outputs": [],
   "source": [
    "user = \"poonam\"\n",
    "lines=100"
   ]
  },
  {
   "cell_type": "raw",
   "id": "d6f23f33-e65d-40f3-9dd7-d5bc922ede87",
   "metadata": {},
   "source": []
  },
  {
   "cell_type": "code",
   "execution_count": 47,
   "id": "c5fb6a64-b0e5-4e3d-8dbb-27d9296c99fa",
   "metadata": {},
   "outputs": [
    {
     "name": "stdout",
     "output_type": "stream",
     "text": [
      "congratulations, poonam ! you just wrote 100 lines of code\n"
     ]
    }
   ],
   "source": [
    "print(\"congratulations,\",user,\"! you just wrote\",lines,\"lines of code\")"
   ]
  },
  {
   "cell_type": "code",
   "execution_count": 50,
   "id": "c07972f1-dc8b-4a7e-bf25-5061939f2d89",
   "metadata": {},
   "outputs": [
    {
     "data": {
      "text/plain": [
       "19"
      ]
     },
     "execution_count": 50,
     "metadata": {},
     "output_type": "execute_result"
    }
   ],
   "source": [
    "d='This is interesting'\n",
    "len(d)"
   ]
  },
  {
   "cell_type": "code",
   "execution_count": 51,
   "id": "301949c5-e1cb-4a14-929a-f8819cfbfd3c",
   "metadata": {},
   "outputs": [
    {
     "ename": "NameError",
     "evalue": "name 'd' is not defined",
     "output_type": "error",
     "traceback": [
      "\u001b[1;31m---------------------------------------------------------------------------\u001b[0m",
      "\u001b[1;31mNameError\u001b[0m                                 Traceback (most recent call last)",
      "Cell \u001b[1;32mIn[51], line 2\u001b[0m\n\u001b[0;32m      1\u001b[0m \u001b[38;5;28;01mdel\u001b[39;00m d\n\u001b[1;32m----> 2\u001b[0m \u001b[38;5;28mprint\u001b[39m(d)\n",
      "\u001b[1;31mNameError\u001b[0m: name 'd' is not defined"
     ]
    }
   ],
   "source": [
    "del d\n",
    "print(d)"
   ]
  },
  {
   "cell_type": "code",
   "execution_count": 52,
   "id": "aefd3504-5101-4f0e-8de0-417d539b3702",
   "metadata": {},
   "outputs": [],
   "source": [
    "mystring=\"Hello\""
   ]
  },
  {
   "cell_type": "code",
   "execution_count": 53,
   "id": "d4f7b073-0fae-4b2a-8ea9-fe99ba92bf76",
   "metadata": {},
   "outputs": [
    {
     "name": "stdout",
     "output_type": "stream",
     "text": [
      "H\n"
     ]
    }
   ],
   "source": [
    "print(mystring[0])"
   ]
  },
  {
   "cell_type": "code",
   "execution_count": 54,
   "id": "76a11f9d-dd20-4b71-9a09-083f009f753c",
   "metadata": {},
   "outputs": [
    {
     "name": "stdout",
     "output_type": "stream",
     "text": [
      "o\n"
     ]
    }
   ],
   "source": [
    "print(mystring[-1])"
   ]
  },
  {
   "cell_type": "code",
   "execution_count": 55,
   "id": "61755005-a88b-49cf-ac49-d1788e1599ae",
   "metadata": {},
   "outputs": [
    {
     "name": "stdout",
     "output_type": "stream",
     "text": [
      "l\n"
     ]
    }
   ],
   "source": [
    "print(mystring[-3])"
   ]
  },
  {
   "cell_type": "code",
   "execution_count": 56,
   "id": "d2a36c49-28bc-42ee-aaf3-77fb8a07be7a",
   "metadata": {},
   "outputs": [
    {
     "ename": "IndexError",
     "evalue": "string index out of range",
     "output_type": "error",
     "traceback": [
      "\u001b[1;31m---------------------------------------------------------------------------\u001b[0m",
      "\u001b[1;31mIndexError\u001b[0m                                Traceback (most recent call last)",
      "Cell \u001b[1;32mIn[56], line 1\u001b[0m\n\u001b[1;32m----> 1\u001b[0m \u001b[38;5;28mprint\u001b[39m(mystring[\u001b[38;5;241m5\u001b[39m])\n",
      "\u001b[1;31mIndexError\u001b[0m: string index out of range"
     ]
    }
   ],
   "source": [
    "print(mystring[5])"
   ]
  },
  {
   "cell_type": "code",
   "execution_count": 57,
   "id": "131c045c-4760-4ba8-b847-3e9eee768cd3",
   "metadata": {},
   "outputs": [
    {
     "name": "stdout",
     "output_type": "stream",
     "text": [
      "llo\n"
     ]
    }
   ],
   "source": [
    "print(mystring[2:5])"
   ]
  },
  {
   "cell_type": "code",
   "execution_count": 58,
   "id": "86eab4aa-e286-4f83-bc1c-da41f4125ece",
   "metadata": {},
   "outputs": [
    {
     "name": "stdout",
     "output_type": "stream",
     "text": [
      "Hel\n"
     ]
    }
   ],
   "source": [
    "print(mystring[0:3])"
   ]
  },
  {
   "cell_type": "code",
   "execution_count": 59,
   "id": "20472e08-298e-4dde-8cc4-091113fc1297",
   "metadata": {},
   "outputs": [
    {
     "data": {
      "text/plain": [
       "'llo'"
      ]
     },
     "execution_count": 59,
     "metadata": {},
     "output_type": "execute_result"
    }
   ],
   "source": [
    "mystring[2:]"
   ]
  },
  {
   "cell_type": "code",
   "execution_count": 60,
   "id": "e465301b-b472-4946-b557-c5e4024d60dc",
   "metadata": {},
   "outputs": [
    {
     "data": {
      "text/plain": [
       "'llo'"
      ]
     },
     "execution_count": 60,
     "metadata": {},
     "output_type": "execute_result"
    }
   ],
   "source": [
    "mystring[2:]"
   ]
  },
  {
   "cell_type": "code",
   "execution_count": 61,
   "id": "f40e472a-6c97-4b3b-9cf9-a4f1982c0588",
   "metadata": {},
   "outputs": [
    {
     "data": {
      "text/plain": [
       "'mystring'"
      ]
     },
     "execution_count": 61,
     "metadata": {},
     "output_type": "execute_result"
    }
   ],
   "source": [
    "'mystring'"
   ]
  },
  {
   "cell_type": "code",
   "execution_count": 62,
   "id": "8f217d23-db55-41e4-a7f2-8f2d299b775c",
   "metadata": {},
   "outputs": [
    {
     "data": {
      "text/plain": [
       "'Hello'"
      ]
     },
     "execution_count": 62,
     "metadata": {},
     "output_type": "execute_result"
    }
   ],
   "source": [
    "mystring"
   ]
  },
  {
   "cell_type": "code",
   "execution_count": 63,
   "id": "c024dbce-af78-4586-968c-aa1f883ba610",
   "metadata": {},
   "outputs": [
    {
     "data": {
      "text/plain": [
       "''"
      ]
     },
     "execution_count": 63,
     "metadata": {},
     "output_type": "execute_result"
    }
   ],
   "source": [
    "mystring[4:1]"
   ]
  },
  {
   "cell_type": "code",
   "execution_count": 64,
   "id": "5e9fce1c-e9b8-459d-81b7-a0446dc18b98",
   "metadata": {},
   "outputs": [
    {
     "data": {
      "text/plain": [
       "'Hlo'"
      ]
     },
     "execution_count": 64,
     "metadata": {},
     "output_type": "execute_result"
    }
   ],
   "source": [
    "mystring[::2]"
   ]
  },
  {
   "cell_type": "code",
   "execution_count": 65,
   "id": "9db6e511-ec68-4ff9-b571-3acec9cc6998",
   "metadata": {},
   "outputs": [
    {
     "data": {
      "text/plain": [
       "'Good morning'"
      ]
     },
     "execution_count": 65,
     "metadata": {},
     "output_type": "execute_result"
    }
   ],
   "source": [
    "\"good morning\".capitalize()"
   ]
  },
  {
   "cell_type": "code",
   "execution_count": 66,
   "id": "f0cd8078-f6e8-4f07-957f-dbe55bb0ff0a",
   "metadata": {},
   "outputs": [
    {
     "data": {
      "text/plain": [
       "'Good morning.welcome'"
      ]
     },
     "execution_count": 66,
     "metadata": {},
     "output_type": "execute_result"
    }
   ],
   "source": [
    "\"good morning.welcome\".capitalize()"
   ]
  },
  {
   "cell_type": "code",
   "execution_count": 67,
   "id": "03a00886-8e66-42a9-8cd6-c3ce278d3629",
   "metadata": {},
   "outputs": [],
   "source": [
    "a=\"gOOd moRning\""
   ]
  },
  {
   "cell_type": "code",
   "execution_count": 68,
   "id": "d77e55d1-d037-4ac1-8133-8fdf0bb43f75",
   "metadata": {},
   "outputs": [
    {
     "data": {
      "text/plain": [
       "'Good Morning'"
      ]
     },
     "execution_count": 68,
     "metadata": {},
     "output_type": "execute_result"
    }
   ],
   "source": [
    "\"good morning\".title()"
   ]
  },
  {
   "cell_type": "code",
   "execution_count": 69,
   "id": "1197c6bd-4bfa-4829-8f81-e82fa5963d2f",
   "metadata": {},
   "outputs": [
    {
     "data": {
      "text/plain": [
       "'good morning'"
      ]
     },
     "execution_count": 69,
     "metadata": {},
     "output_type": "execute_result"
    }
   ],
   "source": [
    "a.lower()"
   ]
  },
  {
   "cell_type": "code",
   "execution_count": 71,
   "id": "c25dd87f-8cdf-4533-bb8b-9ce8236317a1",
   "metadata": {},
   "outputs": [
    {
     "ename": "ValueError",
     "evalue": "empty separator",
     "output_type": "error",
     "traceback": [
      "\u001b[1;31m---------------------------------------------------------------------------\u001b[0m",
      "\u001b[1;31mValueError\u001b[0m                                Traceback (most recent call last)",
      "Cell \u001b[1;32mIn[71], line 2\u001b[0m\n\u001b[0;32m      1\u001b[0m st \u001b[38;5;241m=\u001b[39m \u001b[38;5;124m'\u001b[39m\u001b[38;5;124mhello my name is poonam\u001b[39m\u001b[38;5;124m'\u001b[39m\n\u001b[1;32m----> 2\u001b[0m st\u001b[38;5;241m.\u001b[39msplit(\u001b[38;5;124m'\u001b[39m\u001b[38;5;124m'\u001b[39m)\n",
      "\u001b[1;31mValueError\u001b[0m: empty separator"
     ]
    }
   ],
   "source": [
    "st = 'hello my name is poonam'\n",
    "st.split('')"
   ]
  },
  {
   "cell_type": "code",
   "execution_count": 72,
   "id": "e6ed49de-9b36-48bd-be47-b81c89e921e0",
   "metadata": {},
   "outputs": [
    {
     "data": {
      "text/plain": [
       "5"
      ]
     },
     "execution_count": 72,
     "metadata": {},
     "output_type": "execute_result"
    }
   ],
   "source": [
    "\"Good Morning\".find(\"M\")"
   ]
  },
  {
   "cell_type": "code",
   "execution_count": 73,
   "id": "93d385c6-892e-487a-a77d-d96c88b58657",
   "metadata": {},
   "outputs": [],
   "source": [
    "s1=\"Good morning\"\n",
    "s2=s1.replace(\"Good\",\"Bad\")"
   ]
  },
  {
   "cell_type": "code",
   "execution_count": 75,
   "id": "a29d0279-a77e-401b-ac46-d9b80664440a",
   "metadata": {},
   "outputs": [
    {
     "name": "stdout",
     "output_type": "stream",
     "text": [
      "True\n",
      "False\n",
      "False\n",
      "False\n",
      "False\n",
      "True\n",
      "False\n",
      "False\n",
      "True\n"
     ]
    }
   ],
   "source": [
    "my_str='poonam123'\n",
    "print(my_str.isalnum())\n",
    "print(my_str.isalpha())\n",
    "print(my_str.isdigit())\n",
    "print(my_str.istitle())\n",
    "print(my_str.isupper())\n",
    "print(my_str.islower())\n",
    "print(my_str.isspace())\n",
    "print(my_str.endswith('p'))\n",
    "print(my_str.startswith('p'))\n",
    "\n"
   ]
  },
  {
   "cell_type": "code",
   "execution_count": null,
   "id": "a9de2f50-8d8d-4b98-a9af-90a6047cdacf",
   "metadata": {},
   "outputs": [],
   "source": []
  }
 ],
 "metadata": {
  "kernelspec": {
   "display_name": "Python 3 (ipykernel)",
   "language": "python",
   "name": "python3"
  },
  "language_info": {
   "codemirror_mode": {
    "name": "ipython",
    "version": 3
   },
   "file_extension": ".py",
   "mimetype": "text/x-python",
   "name": "python",
   "nbconvert_exporter": "python",
   "pygments_lexer": "ipython3",
   "version": "3.11.7"
  }
 },
 "nbformat": 4,
 "nbformat_minor": 5
}
