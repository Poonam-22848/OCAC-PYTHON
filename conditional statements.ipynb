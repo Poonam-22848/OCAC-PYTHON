{
 "cells": [
  {
   "cell_type": "code",
   "execution_count": 1,
   "id": "6bc2a9ec-57d8-4c01-8b7e-ba23e08a4ebc",
   "metadata": {},
   "outputs": [
    {
     "name": "stdout",
     "output_type": "stream",
     "text": [
      "hello!\n",
      "poonam\n"
     ]
    }
   ],
   "source": [
    "if 1<2:\n",
    "       print('hello!')\n",
    "       print('poonam') "
   ]
  },
  {
   "cell_type": "code",
   "execution_count": 2,
   "id": "aad02525-6b70-4617-b00d-39193cb251e9",
   "metadata": {},
   "outputs": [],
   "source": [
    "if 1>2:\n",
    "       print('hello!')\n",
    "    "
   ]
  },
  {
   "cell_type": "code",
   "execution_count": 3,
   "id": "0edef160-8e0a-4725-ad9c-2b7dcafa2f72",
   "metadata": {},
   "outputs": [
    {
     "name": "stdout",
     "output_type": "stream",
     "text": [
      "poonam\n"
     ]
    }
   ],
   "source": [
    "if 1>2:\n",
    "       print('hello!')\n",
    "    \n",
    "print(\"poonam\")"
   ]
  },
  {
   "cell_type": "code",
   "execution_count": 4,
   "id": "3969265d-da1d-422c-906c-40b3005deb88",
   "metadata": {},
   "outputs": [
    {
     "name": "stdin",
     "output_type": "stream",
     "text": [
      "Enter Name: poonam\n"
     ]
    },
    {
     "name": "stdout",
     "output_type": "stream",
     "text": [
      "Hello poonam good morning\n"
     ]
    }
   ],
   "source": [
    "name=input(\"Enter Name:\")\n",
    "if name ==\"poonam\" :\n",
    "    print(\"Hello poonam good morning\")"
   ]
  },
  {
   "cell_type": "code",
   "execution_count": 5,
   "id": "164b96d6-5ae0-46fe-b030-95eef6b97064",
   "metadata": {},
   "outputs": [
    {
     "name": "stdout",
     "output_type": "stream",
     "text": [
      "first\n"
     ]
    }
   ],
   "source": [
    "if 1<2:\n",
    "    print('first')\n",
    "\n",
    "else:\n",
    "    print('last')"
   ]
  },
  {
   "cell_type": "code",
   "execution_count": 6,
   "id": "1937ad80-b0df-4f15-9039-89c9faf8335d",
   "metadata": {},
   "outputs": [
    {
     "name": "stdout",
     "output_type": "stream",
     "text": [
      "last\n"
     ]
    }
   ],
   "source": [
    "if 1>2:\n",
    "    print('first')\n",
    "else:\n",
    "    print('last')"
   ]
  },
  {
   "cell_type": "code",
   "execution_count": 7,
   "id": "1a6bea3f-58ed-4b6f-a1f4-3e2a85b53397",
   "metadata": {},
   "outputs": [
    {
     "name": "stdin",
     "output_type": "stream",
     "text": [
      "enter a number 2\n"
     ]
    },
    {
     "name": "stdout",
     "output_type": "stream",
     "text": [
      "2 is even number\n"
     ]
    }
   ],
   "source": [
    "x=int(input('enter a number'))\n",
    "if (x%2==0):\n",
    "    print(x, 'is even number')\n",
    "else:\n",
    "    print(x,'is odd number')"
   ]
  },
  {
   "cell_type": "code",
   "execution_count": 8,
   "id": "1d1f7fab-7e4b-4812-9899-bffcf7df4318",
   "metadata": {},
   "outputs": [
    {
     "name": "stdin",
     "output_type": "stream",
     "text": [
      "Enter name: poonam\n"
     ]
    },
    {
     "name": "stdout",
     "output_type": "stream",
     "text": [
      "Hello poonam good morning\n"
     ]
    }
   ],
   "source": [
    "name=input(\"Enter name:\")\n",
    "if name==\"poonam\":\n",
    "    print(\"Hello poonam good morning\")\n",
    "else:\n",
    "    print(\"Herllo\",name,\"Good morning\")"
   ]
  },
  {
   "cell_type": "code",
   "execution_count": 9,
   "id": "8c06609c-da55-4c8c-825d-361e38df5b93",
   "metadata": {},
   "outputs": [
    {
     "name": "stdout",
     "output_type": "stream",
     "text": [
      "AI\n",
      "ML\n"
     ]
    }
   ],
   "source": [
    "lst = ['one', 'two', 'three', 'four']\n",
    "\n",
    "if 'two' in lst:\n",
    "    print('AI')\n",
    "\n",
    "if 'six' not in lst:\n",
    "    print('ML')"
   ]
  },
  {
   "cell_type": "code",
   "execution_count": 12,
   "id": "3ffa11cd-1e9b-4af2-8f98-115a789874d6",
   "metadata": {},
   "outputs": [
    {
     "name": "stdout",
     "output_type": "stream",
     "text": [
      "first\n"
     ]
    }
   ],
   "source": [
    "if 2 == 2:\n",
    "    print('first')\n",
    "elif 3 == 3:\n",
    "    print('middle')"
   ]
  },
  {
   "cell_type": "code",
   "execution_count": 14,
   "id": "932d9c63-13ce-4740-be79-348562a98c6d",
   "metadata": {},
   "outputs": [
    {
     "name": "stdout",
     "output_type": "stream",
     "text": [
      "Grade c\n"
     ]
    }
   ],
   "source": [
    "y=50\n",
    "if y>90:\n",
    "    print(\"Grade A\")\n",
    "\n",
    "elif(y>60):\n",
    "    print(\"Grade B\")\n",
    "\n",
    "elif y>40:\n",
    "    print(\"Grade c\")\n",
    "\n",
    "else:\n",
    "    print(\"Grade F\")"
   ]
  },
  {
   "cell_type": "code",
   "execution_count": 15,
   "id": "0e9ad891-17b0-4a55-a987-c127077dd95e",
   "metadata": {},
   "outputs": [
    {
     "name": "stdout",
     "output_type": "stream",
     "text": [
      "x is zero\n"
     ]
    }
   ],
   "source": [
    "x=-45.99\n",
    "\n",
    "if((x>0) or (x==-100)):\n",
    "    print(\"x is positive value or -100\")\n",
    "    print(\"I am if loop\")\n",
    "\n",
    "else:\n",
    "    print(\"x is zero\")"
   ]
  },
  {
   "cell_type": "code",
   "execution_count": 16,
   "id": "b0a2cf12-c3fd-49bd-b176-5dfbceb580b6",
   "metadata": {},
   "outputs": [
    {
     "name": "stdout",
     "output_type": "stream",
     "text": [
      "negative\n",
      "I am out of IF block\n"
     ]
    }
   ],
   "source": [
    "x= -20\n",
    " \n",
    "if x > 0:\n",
    "    print('positive')\n",
    "    print('hello')\n",
    "\n",
    "elif x == 0:\n",
    "    print('zero')\n",
    "\n",
    "else:\n",
    "    print('negative')\n",
    "    \n",
    "print(\"I am out of IF block\")\n",
    "\n"
   ]
  },
  {
   "cell_type": "code",
   "execution_count": 17,
   "id": "971fbc52-57f3-4073-b70d-9efb66ff047d",
   "metadata": {},
   "outputs": [],
   "source": [
    "numbers = [1,2,3,4]\n",
    "for num in numbers:\n",
    "    if num == 4:\n",
    "        break\n",
    "        print(num)"
   ]
  },
  {
   "cell_type": "code",
   "execution_count": 24,
   "id": "fc3b3794-3db9-4e33-b3ea-d2ad6ee21cb5",
   "metadata": {},
   "outputs": [
    {
     "name": "stdout",
     "output_type": "stream",
     "text": [
      "4\n"
     ]
    }
   ],
   "source": [
    "numbers = [1,2,3,4]\n",
    "for num in numbers:\n",
    "    if num == 4:\n",
    "        print(num)\n",
    "        continue\n",
    "        print(num)"
   ]
  },
  {
   "cell_type": "code",
   "execution_count": 28,
   "id": "72a47bc3-9085-4223-a8e6-fdb2ffc6f9f3",
   "metadata": {},
   "outputs": [
    {
     "name": "stdout",
     "output_type": "stream",
     "text": [
      "1\n",
      "2\n",
      "3\n",
      "This is the first one- 4\n",
      "5\n",
      "6\n"
     ]
    }
   ],
   "source": [
    "numbers = [1,2,3,4,5,6]\n",
    "for num in numbers:\n",
    "    if num == 4:\n",
    "        print(\"This is the first one-\",num)\n",
    "        continue\n",
    "    print(num)"
   ]
  },
  {
   "cell_type": "code",
   "execution_count": 25,
   "id": "8c1a7c97-44f2-4846-bc51-75f9f69f4566",
   "metadata": {},
   "outputs": [
    {
     "name": "stdout",
     "output_type": "stream",
     "text": [
      "4\n"
     ]
    }
   ],
   "source": [
    "numbers = [1,2,3,4]\n",
    "for num in numbers:\n",
    "    if num == 4:\n",
    "        continue\n",
    "print(num)"
   ]
  },
  {
   "cell_type": "code",
   "execution_count": 37,
   "id": "dcaa193b-499f-4433-9f90-43e1091e3b8f",
   "metadata": {},
   "outputs": [
    {
     "name": "stdout",
     "output_type": "stream",
     "text": [
      "1\n",
      "2\n",
      "3\n",
      "4\n",
      "5\n",
      "6\n",
      "7\n",
      "8\n",
      "9\n",
      "10\n",
      "11\n"
     ]
    }
   ],
   "source": [
    "a=0\n",
    "while a <=10:\n",
    "       a=a+1\n",
    "       print(a)"
   ]
  },
  {
   "cell_type": "code",
   "execution_count": 38,
   "id": "ab85e888-9821-4544-bd50-6b4d21f50ad5",
   "metadata": {},
   "outputs": [],
   "source": [
    "a=0\n",
    "while a >=10:\n",
    "    a=a+1\n",
    "    print(a)"
   ]
  },
  {
   "cell_type": "code",
   "execution_count": 43,
   "id": "9ea05b6f-bca7-4658-82ea-e51bb64af683",
   "metadata": {},
   "outputs": [
    {
     "name": "stdin",
     "output_type": "stream",
     "text": [
      "enter a value: 4\n",
      "enter a value: 5\n",
      "enter a value: 6\n",
      "enter a value: 7\n",
      "enter a value: 8\n",
      "enter a value: 8\n",
      "enter a value: 10\n",
      "enter a value: 11\n",
      "enter a value: 12\n",
      "enter a value: 13\n",
      "enter a value: 14\n",
      "enter a value: done\n"
     ]
    },
    {
     "name": "stdout",
     "output_type": "stream",
     "text": [
      "98\n"
     ]
    }
   ],
   "source": [
    "s=0\n",
    "while True:\n",
    "    a=input('enter a value:')\n",
    "    if (a=='done'):\n",
    "        break\n",
    "    s=s+int(a)\n",
    "\n",
    "print(s)"
   ]
  },
  {
   "cell_type": "code",
   "execution_count": 44,
   "id": "df8422e5-634b-450b-945b-c3f25737ca31",
   "metadata": {},
   "outputs": [
    {
     "name": "stdout",
     "output_type": "stream",
     "text": [
      "1\n",
      "2\n",
      "3\n",
      "4\n",
      "5\n",
      "no item left in the list\n"
     ]
    }
   ],
   "source": [
    "numbers = [1,2,3,4,5]\n",
    "\n",
    "index=0\n",
    "while index < len(numbers):\n",
    "    print(numbers[index])\n",
    "    index += 1\n",
    "\n",
    "else:\n",
    "    print(\"no item left in the list\")"
   ]
  },
  {
   "cell_type": "code",
   "execution_count": 1,
   "id": "43a33e8b-31d1-43bc-87de-3a8d41e95418",
   "metadata": {},
   "outputs": [
    {
     "name": "stdin",
     "output_type": "stream",
     "text": [
      "Enter your favorite brand: Rc\n"
     ]
    },
    {
     "name": "stdout",
     "output_type": "stream",
     "text": [
      "other brand are not recommended\n"
     ]
    }
   ],
   "source": [
    "brand=input(\"Enter your favorite brand:\")\n",
    "if brand==\"RC\" :\n",
    "    print(\"it is a children brand\")\n",
    "elif brand==\"KF\":\n",
    "    print(\"it is not that much kick\")\n",
    "elif brand==\"FO\":\n",
    "    print(\"Buy one gift free one\")\n",
    "elif brand==\"RC\" :\n",
    "    print(\"it is brand\")\n",
    "else:\n",
    "    print(\"other brand are not recommended\")"
   ]
  },
  {
   "cell_type": "code",
   "execution_count": 2,
   "id": "71b777e2-ce25-4f04-9008-45cd57709e6a",
   "metadata": {},
   "outputs": [
    {
     "name": "stdout",
     "output_type": "stream",
     "text": [
      "All is well with the world\n"
     ]
    },
    {
     "name": "stderr",
     "output_type": "stream",
     "text": [
      "<>:1: SyntaxWarning: \"is\" with a literal. Did you mean \"==\"?\n",
      "<>:1: SyntaxWarning: \"is\" with a literal. Did you mean \"==\"?\n",
      "C:\\Users\\Poonam\\AppData\\Local\\Temp\\ipykernel_14300\\1995704407.py:1: SyntaxWarning: \"is\" with a literal. Did you mean \"==\"?\n",
      "  if 1 is 3:\n"
     ]
    }
   ],
   "source": [
    "if 1 is 3:\n",
    "    print(\"How did that happen?\")\n",
    "elif 1 > 3:\n",
    "    print(\"yikes\")\n",
    "else:\n",
    "    print(\"All is well with the world\")"
   ]
  },
  {
   "cell_type": "code",
   "execution_count": 5,
   "id": "b2f5a027-a687-488d-9da6-d146bd0572e6",
   "metadata": {},
   "outputs": [
    {
     "name": "stdin",
     "output_type": "stream",
     "text": [
      "Enter first Number: 4\n",
      "Enter second Number: 5\n"
     ]
    },
    {
     "name": "stdout",
     "output_type": "stream",
     "text": [
      "Biggest Number is: 5\n"
     ]
    }
   ],
   "source": [
    "n1=int(input(\"Enter first Number:\"))\n",
    "n2=int(input(\"Enter second Number:\"))\n",
    "if n1>n2:\n",
    "    print(\"Biggest Number is:\",n1)\n",
    "else:\n",
    "    print(\"Biggest Number is:\",n2)"
   ]
  },
  {
   "cell_type": "code",
   "execution_count": 6,
   "id": "85724784-c12b-47c0-bdfc-615cd5203f0f",
   "metadata": {},
   "outputs": [
    {
     "name": "stdin",
     "output_type": "stream",
     "text": [
      "Enter first string: poonam\n",
      "Enter second string: priyanka\n"
     ]
    },
    {
     "name": "stdout",
     "output_type": "stream",
     "text": [
      "first string is greater then second string\n"
     ]
    }
   ],
   "source": [
    "s1=input(\"Enter first string:\")\n",
    "s2=input(\"Enter second string:\")\n",
    "if s1==s2:\n",
    "    print(\"First string is less then second string\")\n",
    "else:\n",
    "    print(\"first string is greater then second string\")"
   ]
  },
  {
   "cell_type": "code",
   "execution_count": 7,
   "id": "dff48166-9dd6-40a6-b584-cea9dca5f32f",
   "metadata": {},
   "outputs": [
    {
     "name": "stdout",
     "output_type": "stream",
     "text": [
      "Negative number\n"
     ]
    }
   ],
   "source": [
    "num = 10\n",
    "\n",
    "if num >= 0:\n",
    "    if num == 0:\n",
    "        print(\"not\")\n",
    "    else:\n",
    "        print(\"Negative number\")\n",
    "else:\n",
    "    print(\"positive number\")"
   ]
  },
  {
   "cell_type": "code",
   "execution_count": 8,
   "id": "ab549e04-fa91-40f4-ae57-339b7a848dd0",
   "metadata": {},
   "outputs": [
    {
     "name": "stdout",
     "output_type": "stream",
     "text": [
      "less than 3\n",
      "fsdfsf\n"
     ]
    }
   ],
   "source": [
    "i = 2.1\n",
    "if ('i < 3'):\n",
    "    print('less than 3')\n",
    "    if i>2:\n",
    "        print(\"fsdfsf\")\n",
    "\n",
    "elif i < 5:\n",
    "    print('5 or more')\n"
   ]
  },
  {
   "cell_type": "code",
   "execution_count": null,
   "id": "82ad15f1-89b8-4e2c-9fc7-daee89c5762d",
   "metadata": {},
   "outputs": [],
   "source": [
    "amount=20000\n",
    "pin=1234\n",
    "if (int(input('enter your pin'))==1234):\n",
    "    with_draw=int(input('with draw amount:'))\n",
    "    if (with_draw<=amount):\n",
    "        print(with_draw, 'successfully tranasaction completed')\n",
    "    else:\n",
    "        print(with_draw,'not sufficiant funds in your account')\n",
    "        \n",
    "else:\n",
    "    print('invalid pin number')\n",
    "    "
   ]
  },
  {
   "cell_type": "code",
   "execution_count": 16,
   "id": "b2ebc7b4-60c7-4862-8cf0-398134d8b47b",
   "metadata": {},
   "outputs": [],
   "source": [
    "def multiply():\n",
    "    a=int(input(\"Enter the first number -\"))\n",
    "    b=int(input(\"Enter the second number -\"))\n",
    "    mul = (a*b)\n",
    "    print(\"The multiplication of {} & {} is {}\".format(a,b,mul))\n",
    "    \n",
    "    \n",
    "\n"
   ]
  },
  {
   "cell_type": "code",
   "execution_count": 17,
   "id": "4911ea32-11ba-4ef7-ab26-c41e93d173df",
   "metadata": {},
   "outputs": [
    {
     "name": "stdin",
     "output_type": "stream",
     "text": [
      "Enter the first number - 9\n",
      "Enter the second number - 8\n"
     ]
    },
    {
     "name": "stdout",
     "output_type": "stream",
     "text": [
      "The multiplication of 9 & 8 is 72\n"
     ]
    }
   ],
   "source": [
    "multiply()"
   ]
  },
  {
   "cell_type": "code",
   "execution_count": 22,
   "id": "ab5c0d46-55dc-4e6f-aeb1-7549fa01a1ff",
   "metadata": {},
   "outputs": [
    {
     "name": "stdout",
     "output_type": "stream",
     "text": [
      "Hello poonam , Good morning\n"
     ]
    }
   ],
   "source": [
    "def greet(**kwargs):\n",
    "    if kwargs:\n",
    "        print(\"Hello {} , {}\".format(kwargs['name'], kwargs['msg']))\n",
    "\n",
    "greet(name=\"poonam\", msg=\"Good morning\")"
   ]
  },
  {
   "cell_type": "code",
   "execution_count": null,
   "id": "4c533b8d-78f5-455f-9451-d553384fbaf3",
   "metadata": {},
   "outputs": [],
   "source": []
  }
 ],
 "metadata": {
  "kernelspec": {
   "display_name": "Python 3 (ipykernel)",
   "language": "python",
   "name": "python3"
  },
  "language_info": {
   "codemirror_mode": {
    "name": "ipython",
    "version": 3
   },
   "file_extension": ".py",
   "mimetype": "text/x-python",
   "name": "python",
   "nbconvert_exporter": "python",
   "pygments_lexer": "ipython3",
   "version": "3.11.7"
  }
 },
 "nbformat": 4,
 "nbformat_minor": 5
}
