{
 "cells": [
  {
   "cell_type": "code",
   "execution_count": 1,
   "id": "101f888c-fafa-4508-83c0-20c5530c8330",
   "metadata": {},
   "outputs": [
    {
     "name": "stdout",
     "output_type": "stream",
     "text": [
      "1\n",
      "2\n",
      "3\n",
      "4\n",
      "5\n"
     ]
    }
   ],
   "source": [
    "seq = [1,2,3,4,5]\n",
    "for i in seq:\n",
    "    print(i)"
   ]
  },
  {
   "cell_type": "code",
   "execution_count": 2,
   "id": "b53216a5-6944-4850-9d54-4835d47a8f39",
   "metadata": {},
   "outputs": [
    {
     "name": "stdout",
     "output_type": "stream",
     "text": [
      "1\n",
      "2\n",
      "3\n",
      "4\n",
      "5\n"
     ]
    }
   ],
   "source": [
    "seq = [1,2,3,4,5]\n",
    "for item in seq:\n",
    "    print(item)"
   ]
  },
  {
   "cell_type": "code",
   "execution_count": 3,
   "id": "ec32f6ec-a97a-46ea-a1c5-6eab4863f3df",
   "metadata": {},
   "outputs": [
    {
     "name": "stdout",
     "output_type": "stream",
     "text": [
      "apple\n",
      "banana\n",
      "cherry\n",
      "mango\n"
     ]
    }
   ],
   "source": [
    "fruits =  ['apple','banana','cherry','mango']\n",
    "for x in fruits:\n",
    "    print(x)"
   ]
  },
  {
   "cell_type": "code",
   "execution_count": 4,
   "id": "9b439125-0778-4f14-a737-bbe6f5c0b220",
   "metadata": {},
   "outputs": [
    {
     "name": "stdout",
     "output_type": "stream",
     "text": [
      "123456"
     ]
    }
   ],
   "source": [
    "list1=[1,2,3,4,5,6]\n",
    "for i in list1:\n",
    "    print(i,end='')"
   ]
  },
  {
   "cell_type": "code",
   "execution_count": 5,
   "id": "25ab62af-8e01-4c0e-a507-bd8377a4ceee",
   "metadata": {},
   "outputs": [
    {
     "name": "stdout",
     "output_type": "stream",
     "text": [
      "123"
     ]
    }
   ],
   "source": [
    "a=\"123\"\n",
    "for char in a:\n",
    "    print(char,end='')"
   ]
  },
  {
   "cell_type": "code",
   "execution_count": 6,
   "id": "e1576386-6297-40ed-9eac-fb0d8a994382",
   "metadata": {},
   "outputs": [
    {
     "name": "stdout",
     "output_type": "stream",
     "text": [
      "0 hello\n",
      "1 hello\n",
      "2 hello\n",
      "3 hello\n",
      "4 hello\n",
      "5 hello\n",
      "6 hello\n",
      "7 hello\n",
      "8 hello\n",
      "9 hello\n"
     ]
    }
   ],
   "source": [
    "for x in range(10):\n",
    "    print(x,\"hello\")"
   ]
  },
  {
   "cell_type": "code",
   "execution_count": 7,
   "id": "a05c6937-d8e7-437c-b664-044e2738b76d",
   "metadata": {},
   "outputs": [
    {
     "name": "stdout",
     "output_type": "stream",
     "text": [
      "12345678910"
     ]
    }
   ],
   "source": [
    "for i in range(1,11):\n",
    "    print(i,end=\"\")"
   ]
  },
  {
   "cell_type": "code",
   "execution_count": 8,
   "id": "eb6fe6ed-4877-4335-afc0-39b9a8106407",
   "metadata": {},
   "outputs": [
    {
     "name": "stdout",
     "output_type": "stream",
     "text": [
      "11\n",
      "12\n",
      "13\n",
      "14\n",
      "15\n",
      "16\n",
      "17\n",
      "18\n",
      "19\n",
      "20\n",
      "21\n",
      "22\n",
      "23\n",
      "24\n",
      "25\n",
      "26\n",
      "27\n",
      "28\n",
      "29\n",
      "30\n",
      "31\n",
      "32\n",
      "33\n",
      "34\n",
      "35\n",
      "36\n",
      "37\n",
      "38\n",
      "39\n",
      "40\n",
      "41\n",
      "42\n",
      "43\n",
      "44\n",
      "45\n",
      "46\n",
      "47\n",
      "48\n",
      "49\n",
      "50\n"
     ]
    }
   ],
   "source": [
    "for i in range(11,51):\n",
    "    print(i)"
   ]
  },
  {
   "cell_type": "code",
   "execution_count": 1,
   "id": "9234e450-714b-4fe8-ab93-2a32cc12005c",
   "metadata": {},
   "outputs": [
    {
     "name": "stdout",
     "output_type": "stream",
     "text": [
      "item at index  0  is: item1\n",
      "item at index  1  is: item2\n",
      "item at index  2  is: item3\n",
      "item at index  3  is: item4\n"
     ]
    }
   ],
   "source": [
    "items = ['item1', 'item2','item3','item4',]\n",
    "for i in range(len(items)):\n",
    "    print(\"item at index \",i,\" is:\", items[i])"
   ]
  },
  {
   "cell_type": "code",
   "execution_count": 4,
   "id": "433ca8cc-15f7-4c26-b161-a257a75ebbf9",
   "metadata": {},
   "outputs": [],
   "source": [
    "def even_odd():\n",
    "    \"\"\"check even odd\"\"\"\n",
    "    a= int(input(\"enter a number\"))\n",
    "    if a%2==0:\n",
    "        print(\"The number is even\")\n",
    "    else:\n",
    "        print(\"The number is odd\")"
   ]
  },
  {
   "cell_type": "code",
   "execution_count": 7,
   "id": "67e6721a-404c-4941-9b89-7edb19a5faf4",
   "metadata": {},
   "outputs": [
    {
     "name": "stdin",
     "output_type": "stream",
     "text": [
      "enter a number 5\n"
     ]
    },
    {
     "name": "stdout",
     "output_type": "stream",
     "text": [
      "The number is odd\n"
     ]
    }
   ],
   "source": [
    "even_odd()\n"
   ]
  },
  {
   "cell_type": "code",
   "execution_count": 10,
   "id": "b9dedacc-8dc3-48dc-b97c-991f0c28c536",
   "metadata": {},
   "outputs": [],
   "source": [
    "def even_odd(a):\n",
    "    \"\"\"check even odd\"\"\"\n",
    "   # a= int(input(\"enter a number\"))\n",
    "    if a%2==0:\n",
    "        print(\"The number is even\")\n",
    "    else:\n",
    "        print(\"The number is odd\")"
   ]
  },
  {
   "cell_type": "code",
   "execution_count": 11,
   "id": "0bf0eb4e-b1bc-4e1a-ab94-f59fd1d30701",
   "metadata": {},
   "outputs": [
    {
     "name": "stdout",
     "output_type": "stream",
     "text": [
      "The number is odd\n"
     ]
    }
   ],
   "source": [
    "even_odd(5)"
   ]
  },
  {
   "cell_type": "code",
   "execution_count": 12,
   "id": "55308803-affe-4642-aedc-00160e4d3c26",
   "metadata": {},
   "outputs": [],
   "source": [
    "def even_odd2():\n",
    "    a = int(input(\"Enter the 1st Number -\"))\n",
    "    b = int(input(\"Enter the 2nd Number -\"))\n",
    "    s=a+b\n",
    "    if(s%2==0):\n",
    "        print(\"even\")\n",
    "    else:\n",
    "        print(\"odd\")\n",
    "        "
   ]
  },
  {
   "cell_type": "code",
   "execution_count": 13,
   "id": "4ab15da1-45df-4b6e-b93f-8e5bc5c26998",
   "metadata": {},
   "outputs": [
    {
     "name": "stdin",
     "output_type": "stream",
     "text": [
      "Enter the 1st Number - 2\n",
      "Enter the 2nd Number - 3\n"
     ]
    },
    {
     "name": "stdout",
     "output_type": "stream",
     "text": [
      "odd\n"
     ]
    }
   ],
   "source": [
    "even_odd2()"
   ]
  },
  {
   "cell_type": "code",
   "execution_count": 14,
   "id": "88c39e41-df80-4f98-b10c-395ac9030a6e",
   "metadata": {},
   "outputs": [],
   "source": [
    "def even_odd2(a,b):\n",
    "   # a = int(input(\"Enter the 1st Number -\"))\n",
    "    #b = int(input(\"Enter the 2nd Number -\"))\n",
    "    s=a+b\n",
    "    if(s%2==0):\n",
    "        print(\"even\")\n",
    "    else:\n",
    "        print(\"odd\")"
   ]
  },
  {
   "cell_type": "code",
   "execution_count": 15,
   "id": "dd5ade32-43ce-43d4-a82a-e3de535b9cf8",
   "metadata": {},
   "outputs": [
    {
     "name": "stdout",
     "output_type": "stream",
     "text": [
      "odd\n"
     ]
    }
   ],
   "source": [
    "even_odd2(2,3)"
   ]
  },
  {
   "cell_type": "code",
   "execution_count": 22,
   "id": "6c77eec1-f3a6-46c4-beed-d5ad73dc05a5",
   "metadata": {},
   "outputs": [],
   "source": [
    "def fact():\n",
    "    if n<=0:\n",
    "        print(\"No Result\")\n",
    "    elif n == 0:\n",
    "        print(\"The factorial is 1\")\n",
    "    elif n>=1:\n",
    "        fact=1\n",
    "        for i in range(1,n+1):\n",
    "            fact=fact*i\n",
    "    print(\"The factorial is -\",fact)\n"
   ]
  },
  {
   "cell_type": "code",
   "execution_count": 1,
   "id": "9a7011fc-ef28-4b87-8f44-5ca1c79a0c4d",
   "metadata": {},
   "outputs": [
    {
     "name": "stdout",
     "output_type": "stream",
     "text": [
      "1009896949290888684828078767472706866646260585654525048464442403836343230282624222018161412108642"
     ]
    }
   ],
   "source": [
    "for i in range(100,1,-2):\n",
    "    print(i,end='')"
   ]
  },
  {
   "cell_type": "code",
   "execution_count": 2,
   "id": "5320bca0-cea1-475f-bc71-60fe6a5d1f3a",
   "metadata": {},
   "outputs": [
    {
     "name": "stdout",
     "output_type": "stream",
     "text": [
      "12\n",
      "14\n",
      "16\n",
      "18\n",
      "20\n",
      "22\n",
      "24\n",
      "26\n",
      "28\n",
      "30\n",
      "32\n",
      "34\n",
      "36\n",
      "38\n",
      "40\n",
      "42\n",
      "44\n",
      "46\n",
      "48\n"
     ]
    }
   ],
   "source": [
    "for i in range(12,50,2):\n",
    "    print(i)"
   ]
  },
  {
   "cell_type": "code",
   "execution_count": 3,
   "id": "ed58db06-abcd-4b4e-8d33-ce0164d0b707",
   "metadata": {},
   "outputs": [
    {
     "name": "stdout",
     "output_type": "stream",
     "text": [
      "item at index  0  is:  item1\n",
      "item at index  1  is:  item2\n",
      "item at index  2  is:  item3\n",
      "item at index  3  is:  item4\n"
     ]
    }
   ],
   "source": [
    "items = ['item1', 'item2', 'item3','item4']\n",
    "for i in range(len(items)):\n",
    "    print(\"item at index \",i,\" is: \", items[i])"
   ]
  },
  {
   "cell_type": "code",
   "execution_count": 4,
   "id": "2c816704-622f-4065-a7cc-07e4aa2a15d0",
   "metadata": {},
   "outputs": [
    {
     "name": "stdout",
     "output_type": "stream",
     "text": [
      "sum: 10\n"
     ]
    }
   ],
   "source": [
    "a=[1,2,3,4]\n",
    "sum1=0\n",
    "\n",
    "for i in a:\n",
    "    sum1=sum1+i\n",
    "\n",
    "print(\"sum:\",sum1)\n"
   ]
  },
  {
   "cell_type": "code",
   "execution_count": 5,
   "id": "a5a5aec7-15f5-4a41-a9df-e2e4ccca859d",
   "metadata": {},
   "outputs": [
    {
     "name": "stdout",
     "output_type": "stream",
     "text": [
      "after 1 iteration the sum: 1\n",
      "after 2 iteration the sum: 3\n",
      "after 3 iteration the sum: 6\n",
      "after 4 iteration the sum: 10\n"
     ]
    }
   ],
   "source": [
    "a=[1,2,3,4]\n",
    "sum1=0\n",
    "for i in a:\n",
    "    sum1=sum1+i\n",
    "    print(\"after\",i,\"iteration the sum:\",sum1)"
   ]
  },
  {
   "cell_type": "code",
   "execution_count": 6,
   "id": "3e846925-390c-4147-80a7-8dea16086d1e",
   "metadata": {},
   "outputs": [
    {
     "name": "stdout",
     "output_type": "stream",
     "text": [
      "I like pop\n"
     ]
    }
   ],
   "source": [
    "genre = ['pop','rock','poonam', 'priyanka']\n",
    "\n",
    "for i in range(1):\n",
    "    print(\"I like\",genre[i])"
   ]
  },
  {
   "cell_type": "code",
   "execution_count": 7,
   "id": "00746640-410d-44d0-a7cd-403ac07088f7",
   "metadata": {},
   "outputs": [
    {
     "name": "stdin",
     "output_type": "stream",
     "text": [
      "enter the number: 5\n"
     ]
    },
    {
     "name": "stdout",
     "output_type": "stream",
     "text": [
      "*****"
     ]
    }
   ],
   "source": [
    "n=int(input(\"enter the number:\"))\n",
    "for i in range(n):\n",
    "    print(\"*\",end=\"\")"
   ]
  },
  {
   "cell_type": "code",
   "execution_count": 8,
   "id": "1ab46699-a26d-4a2c-b0e9-397b6ebf4205",
   "metadata": {},
   "outputs": [
    {
     "name": "stdout",
     "output_type": "stream",
     "text": [
      "5\n",
      "10\n",
      "15\n",
      "20\n",
      "25\n",
      "30\n",
      "40\n",
      "45\n",
      "50\n",
      "55\n",
      "60\n",
      "65\n",
      "75\n",
      "80\n",
      "85\n",
      "90\n",
      "95\n",
      "100\n"
     ]
    }
   ],
   "source": [
    "for num in range(1,101):\n",
    "    if num%5 == 0 and num%7!=0:\n",
    "        print(num)"
   ]
  },
  {
   "cell_type": "code",
   "execution_count": 9,
   "id": "91b6b016-1291-44fe-9651-1a9df13d21d0",
   "metadata": {},
   "outputs": [
    {
     "name": "stdin",
     "output_type": "stream",
     "text": [
      "enter multiplication table: 2\n"
     ]
    },
    {
     "name": "stdout",
     "output_type": "stream",
     "text": [
      "2 * 1 = 2\n",
      "2 * 2 = 4\n",
      "2 * 3 = 6\n",
      "2 * 4 = 8\n",
      "2 * 5 = 10\n",
      "2 * 6 = 12\n",
      "2 * 7 = 14\n",
      "2 * 8 = 16\n",
      "2 * 9 = 18\n",
      "2 * 10 = 20\n"
     ]
    }
   ],
   "source": [
    "a=int(input('enter multiplication table:'))\n",
    "for i in range(1,11):\n",
    "    print(a, '*',i,'=',a*i)"
   ]
  },
  {
   "cell_type": "code",
   "execution_count": 10,
   "id": "9dad2504-b93c-4fc6-a0b8-ff043e919170",
   "metadata": {},
   "outputs": [
    {
     "name": "stdin",
     "output_type": "stream",
     "text": [
      "enter the number: 4\n"
     ]
    },
    {
     "name": "stdout",
     "output_type": "stream",
     "text": [
      "********************"
     ]
    }
   ],
   "source": [
    "n=int(input(\"enter the number:\"))\n",
    "for i in range(n):\n",
    "    for j in range(n+1,):\n",
    "        print(\"*\",end=\"\")"
   ]
  },
  {
   "cell_type": "code",
   "execution_count": 1,
   "id": "10d28f6d-99d7-4843-a66b-0737cf4efb4e",
   "metadata": {},
   "outputs": [
    {
     "name": "stdin",
     "output_type": "stream",
     "text": [
      " 5\n",
      " 6\n"
     ]
    },
    {
     "name": "stdout",
     "output_type": "stream",
     "text": [
      "6 \n",
      "sum is 6\n"
     ]
    }
   ],
   "source": [
    "lb=int(input())\n",
    "ub=int(input())\n",
    "s=0\n",
    "\n",
    "for i in range(lb,ub+1):\n",
    "    if(i%2==0):\n",
    "        s=s+i\n",
    "        print(i,end=' ')\n",
    "\n",
    "print('\\nsum is',s)"
   ]
  },
  {
   "cell_type": "code",
   "execution_count": 2,
   "id": "2ed3ba00-730d-48ce-81a5-26b76d011604",
   "metadata": {},
   "outputs": [
    {
     "name": "stdout",
     "output_type": "stream",
     "text": [
      "5\n",
      "10\n",
      "15\n",
      "20\n",
      "25\n",
      "30\n",
      "40\n",
      "45\n",
      "50\n",
      "55\n",
      "60\n",
      "65\n",
      "75\n",
      "80\n",
      "85\n",
      "90\n",
      "95\n",
      "100\n"
     ]
    }
   ],
   "source": [
    "for num in range(1,101):\n",
    "    if num%5 == 0 and num%7!=0:\n",
    "        print(num)\n"
   ]
  },
  {
   "cell_type": "code",
   "execution_count": 3,
   "id": "0ada65b6-d63c-40ce-bc02-1c8032daf38f",
   "metadata": {},
   "outputs": [
    {
     "name": "stdin",
     "output_type": "stream",
     "text": [
      "enter multiplication table: 5\n"
     ]
    },
    {
     "name": "stdout",
     "output_type": "stream",
     "text": [
      "5 * 1 = 5\n",
      "5 * 2 = 10\n",
      "5 * 3 = 15\n",
      "5 * 4 = 20\n",
      "5 * 5 = 25\n",
      "5 * 6 = 30\n",
      "5 * 7 = 35\n",
      "5 * 8 = 40\n",
      "5 * 9 = 45\n",
      "5 * 10 = 50\n"
     ]
    }
   ],
   "source": [
    "a=int(input('enter multiplication table:'))\n",
    "for i in range(1,11):\n",
    "    print(a,'*',i,'=',a*i)"
   ]
  },
  {
   "cell_type": "code",
   "execution_count": null,
   "id": "adae1dc3-0167-4f9c-b8e9-adbd1f589563",
   "metadata": {},
   "outputs": [],
   "source": []
  },
  {
   "cell_type": "code",
   "execution_count": 5,
   "id": "467cfd4c-c9ba-4b45-bf5e-66601c51294e",
   "metadata": {},
   "outputs": [],
   "source": [
    "class MyClass:\n",
    "    x = 5"
   ]
  },
  {
   "cell_type": "code",
   "execution_count": 6,
   "id": "d3385681-bfa5-45e6-b874-d330e73fe0c8",
   "metadata": {},
   "outputs": [
    {
     "name": "stdout",
     "output_type": "stream",
     "text": [
      "5\n"
     ]
    }
   ],
   "source": [
    "p1 = Myclass()\n",
    "print(p1.x)"
   ]
  },
  {
   "cell_type": "code",
   "execution_count": 4,
   "id": "e7a93a29-34f0-4e2f-915b-15091c228105",
   "metadata": {},
   "outputs": [
    {
     "name": "stdout",
     "output_type": "stream",
     "text": [
      "poonam\n",
      "36\n"
     ]
    }
   ],
   "source": [
    "class person:\n",
    "  def __init__(self, name, age):\n",
    "    self.name = name\n",
    "    self.age = age\n",
    "\n",
    "p1 = person(\"poonam\", 36)\n",
    "\n",
    "print(p1.name)\n",
    "print(p1.age)"
   ]
  },
  {
   "cell_type": "code",
   "execution_count": null,
   "id": "ad50ff73-43d1-401b-a0de-6cf3c43520aa",
   "metadata": {},
   "outputs": [],
   "source": [
    "def enter_student_names(num_students):\n",
    "    student_names = []\n",
    "    for i in range(num_students):\n",
    "        name = input(\"Enter name of student {i+1}:\")\n",
    "        student_names.append(name)\n",
    "       return student_names\n"
   ]
  }
 ],
 "metadata": {
  "kernelspec": {
   "display_name": "Python 3 (ipykernel)",
   "language": "python",
   "name": "python3"
  },
  "language_info": {
   "codemirror_mode": {
    "name": "ipython",
    "version": 3
   },
   "file_extension": ".py",
   "mimetype": "text/x-python",
   "name": "python",
   "nbconvert_exporter": "python",
   "pygments_lexer": "ipython3",
   "version": "3.11.7"
  }
 },
 "nbformat": 4,
 "nbformat_minor": 5
}
