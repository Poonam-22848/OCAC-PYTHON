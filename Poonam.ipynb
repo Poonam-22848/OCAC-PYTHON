{
 "cells": [
  {
   "cell_type": "code",
   "execution_count": null,
   "id": "e5b7a880-234c-42b5-b1a6-e6f28c9ac45c",
   "metadata": {},
   "outputs": [],
   "source": [
    "a= 20\n"
   ]
  },
  {
   "cell_type": "code",
   "execution_count": 5,
   "id": "e624d981-78d8-49c6-9d8b-b2a09995191e",
   "metadata": {},
   "outputs": [
    {
     "data": {
      "text/plain": [
       "float"
      ]
     },
     "execution_count": 5,
     "metadata": {},
     "output_type": "execute_result"
    }
   ],
   "source": [
    "#to check type:use type()\n",
    "type (a)\n"
   ]
  },
  {
   "cell_type": "code",
   "execution_count": 3,
   "id": "6e0a97be-33d2-4c01-a9ab-2b9b5eb248a0",
   "metadata": {},
   "outputs": [
    {
     "data": {
      "text/plain": [
       "float"
      ]
     },
     "execution_count": 3,
     "metadata": {},
     "output_type": "execute_result"
    }
   ],
   "source": [
    "a=20.0\n",
    "type(a)"
   ]
  },
  {
   "cell_type": "code",
   "execution_count": 2,
   "id": "d0249ee8-7fd0-4cbf-a0eb-bba4023386f7",
   "metadata": {},
   "outputs": [
    {
     "name": "stdout",
     "output_type": "stream",
     "text": [
      "<class 'int'>\n",
      "<class 'float'>\n"
     ]
    }
   ],
   "source": [
    "a=6\n",
    "print(type(a))\n",
    "\n",
    "b=6.0\n",
    "print(type(b))\n"
   ]
  },
  {
   "cell_type": "code",
   "execution_count": 6,
   "id": "bc2d3a13-bed7-43cd-8f35-2ff4f79b9d45",
   "metadata": {},
   "outputs": [
    {
     "data": {
      "text/plain": [
       "12.5"
      ]
     },
     "execution_count": 6,
     "metadata": {},
     "output_type": "execute_result"
    }
   ],
   "source": [
    "a=8\n",
    "b=4.5\n",
    "a+b"
   ]
  },
  {
   "cell_type": "code",
   "execution_count": 7,
   "id": "bb4687c4-5ae5-4001-997f-e9e8b302b9ac",
   "metadata": {},
   "outputs": [
    {
     "data": {
      "text/plain": [
       "6"
      ]
     },
     "execution_count": 7,
     "metadata": {},
     "output_type": "execute_result"
    }
   ],
   "source": [
    "b=6.9\n",
    "int(b)"
   ]
  },
  {
   "cell_type": "code",
   "execution_count": 9,
   "id": "6cdc15de-c391-435a-9f20-4e2b09428776",
   "metadata": {},
   "outputs": [
    {
     "data": {
      "text/plain": [
       "bool"
      ]
     },
     "execution_count": 9,
     "metadata": {},
     "output_type": "execute_result"
    }
   ],
   "source": [
    "b1=True\n",
    "type(b1)"
   ]
  },
  {
   "cell_type": "markdown",
   "id": "12988b76-b314-442b-ac35-60876243d634",
   "metadata": {},
   "source": [
    "a=10.5\n",
    "print(a)\n",
    "print(type(a))"
   ]
  },
  {
   "cell_type": "code",
   "execution_count": 11,
   "id": "cfdd80d6-4ae6-4faa-ab19-7811a6af2491",
   "metadata": {},
   "outputs": [
    {
     "data": {
      "text/plain": [
       "True"
      ]
     },
     "execution_count": 11,
     "metadata": {},
     "output_type": "execute_result"
    }
   ],
   "source": [
    "10.5==10.50"
   ]
  },
  {
   "cell_type": "code",
   "execution_count": 14,
   "id": "fc83e1f7-c0d4-4b34-9e9c-297d49e2ed98",
   "metadata": {},
   "outputs": [
    {
     "name": "stdout",
     "output_type": "stream",
     "text": [
      "5\n",
      "13\n"
     ]
    }
   ],
   "source": [
    "print(5)\n",
    "print(0o15)"
   ]
  },
  {
   "cell_type": "code",
   "execution_count": 17,
   "id": "7d1d622a-f576-4e70-91c2-d8b8304416ed",
   "metadata": {},
   "outputs": [
    {
     "data": {
      "text/plain": [
       "3.9"
      ]
     },
     "execution_count": 17,
     "metadata": {},
     "output_type": "execute_result"
    }
   ],
   "source": [
    "b= 3.9\n",
    "c= False\n",
    "b+c"
   ]
  },
  {
   "cell_type": "code",
   "execution_count": 18,
   "id": "866f001a-bc99-467f-8cc1-10473acd3ec9",
   "metadata": {},
   "outputs": [
    {
     "name": "stdout",
     "output_type": "stream",
     "text": [
      "Hello\n",
      "Hello\n",
      "Hello\n"
     ]
    }
   ],
   "source": [
    " mystring1='Hello'\n",
    "print(mystring1)\n",
    "\n",
    "mystring2=\"Hello\"\n",
    "print(mystring2)\n",
    "\n",
    "mystring3='''Hello'''\n",
    "print(mystring3)"
   ]
  },
  {
   "cell_type": "code",
   "execution_count": 19,
   "id": "c49aa265-7217-4d60-8a44-b9eeb87de5a5",
   "metadata": {},
   "outputs": [
    {
     "data": {
      "text/plain": [
       "505.0"
      ]
     },
     "execution_count": 19,
     "metadata": {},
     "output_type": "execute_result"
    }
   ],
   "source": [
    "a=505\n",
    "int(a)\n",
    "float(a)"
   ]
  },
  {
   "cell_type": "code",
   "execution_count": 20,
   "id": "8c52bb79-514d-41e6-8aa6-acabd51d52b4",
   "metadata": {},
   "outputs": [
    {
     "name": "stdin",
     "output_type": "stream",
     "text": [
      "enter a decimal number 73\n"
     ]
    },
    {
     "data": {
      "text/plain": [
       "73.0"
      ]
     },
     "execution_count": 20,
     "metadata": {},
     "output_type": "execute_result"
    }
   ],
   "source": [
    "a=input(\"enter a decimal number\")\n",
    "int(a)\n",
    "float(a)\n"
   ]
  },
  {
   "cell_type": "code",
   "execution_count": 21,
   "id": "6934d1b3-e0b6-4f4f-94bd-38ea674a0b4a",
   "metadata": {},
   "outputs": [
    {
     "ename": "SyntaxError",
     "evalue": "invalid syntax. Perhaps you forgot a comma? (416695569.py, line 1)",
     "output_type": "error",
     "traceback": [
      "\u001b[1;36m  Cell \u001b[1;32mIn[21], line 1\u001b[1;36m\u001b[0m\n\u001b[1;33m    print(\" navin's\"laptop\"\")\u001b[0m\n\u001b[1;37m          ^\u001b[0m\n\u001b[1;31mSyntaxError\u001b[0m\u001b[1;31m:\u001b[0m invalid syntax. Perhaps you forgot a comma?\n"
     ]
    }
   ],
   "source": [
    "print(\" navin's\"laptop\"\")"
   ]
  },
  {
   "cell_type": "code",
   "execution_count": null,
   "id": "ac9ac8cc-0fd4-4c4a-bceb-5e9856e381f8",
   "metadata": {},
   "outputs": [],
   "source": []
  }
 ],
 "metadata": {
  "kernelspec": {
   "display_name": "Python 3 (ipykernel)",
   "language": "python",
   "name": "python3"
  },
  "language_info": {
   "codemirror_mode": {
    "name": "ipython",
    "version": 3
   },
   "file_extension": ".py",
   "mimetype": "text/x-python",
   "name": "python",
   "nbconvert_exporter": "python",
   "pygments_lexer": "ipython3",
   "version": "3.11.7"
  }
 },
 "nbformat": 4,
 "nbformat_minor": 5
}
